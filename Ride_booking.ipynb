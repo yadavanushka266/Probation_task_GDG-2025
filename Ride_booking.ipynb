{
  "cells": [
    {
      "cell_type": "markdown",
      "metadata": {
        "id": "view-in-github",
        "colab_type": "text"
      },
      "source": [
        "<a href=\"https://colab.research.google.com/github/yadavanushka266/Probation_task_GDG-2025/blob/main/Ride_booking.ipynb\" target=\"_parent\"><img src=\"https://colab.research.google.com/assets/colab-badge.svg\" alt=\"Open In Colab\"/></a>"
      ]
    },
    {
      "cell_type": "markdown",
      "metadata": {
        "id": "0zJXleZx_VV2"
      },
      "source": [
        "**EXPLORATORY DATA ANALYSIS**"
      ]
    },
    {
      "cell_type": "markdown",
      "source": [
        "**OBJECTIVES**"
      ],
      "metadata": {
        "id": "3L-fng4dU4J-"
      }
    },
    {
      "cell_type": "markdown",
      "source": [
        "1.Understand the Data\n",
        "\n",
        "2.Identify Data Quality Issues\n",
        "\n",
        "\n",
        "\n",
        "\n",
        "3.Summarize Data Characteristics\n",
        "\n",
        "4.Discover Patterns and Relationships\n",
        "\n",
        "5.Generate Hypotheses\n",
        "\n",
        "6.Guide Feature Engineering\n",
        "\n",
        "7.Detect Anomalies and Outliers\n",
        "\n",
        "8.Inform Modeling Decisions\n",
        "\n",
        "9.Validate Data Assumptions\n",
        "\n",
        "10.Enhance Data Visualization"
      ],
      "metadata": {
        "id": "QnDglmwYVEzr"
      }
    },
    {
      "cell_type": "markdown",
      "metadata": {
        "id": "vi1-rx1L9hNS"
      },
      "source": [
        " **Importing Standard Libraries**\n",
        "\n",
        "1.   Numpy\n",
        "2.   Pandas\n",
        "3.   Matplotlib\n",
        "4.   Seaborn\n",
        "\n"
      ]
    },
    {
      "cell_type": "code",
      "execution_count": 1,
      "metadata": {
        "id": "c-gkKqnR9p7f"
      },
      "outputs": [],
      "source": [
        "import pandas as pd\n",
        "import numpy as np\n",
        "import matplotlib.pyplot as plt\n",
        "import seaborn as sns"
      ]
    },
    {
      "cell_type": "markdown",
      "metadata": {
        "id": "diLOZBFd_rCp"
      },
      "source": [
        "**Loading a CSV File and then creating a dataframe**"
      ]
    },
    {
      "cell_type": "code",
      "execution_count": 3,
      "metadata": {
        "id": "P2NBAsoWyaNH"
      },
      "outputs": [],
      "source": [
        "data=pd.read_csv('Ride_booking.csv')"
      ]
    },
    {
      "cell_type": "markdown",
      "metadata": {
        "id": "PDp1y4C-ADI0"
      },
      "source": [
        "**Let's look at the columns**"
      ]
    },
    {
      "cell_type": "code",
      "execution_count": 15,
      "metadata": {
        "colab": {
          "base_uri": "https://localhost:8080/"
        },
        "id": "JJ-ni6696PA_",
        "outputId": "eb84f5ee-c204-468f-da34-b186a032543f"
      },
      "outputs": [
        {
          "output_type": "execute_result",
          "data": {
            "text/plain": [
              "Index(['Date', 'Time', 'Booking ID', 'Booking Status', 'Customer ID',\n",
              "       'Vehicle Type', 'Pickup Location', 'Drop Location', 'Avg VTAT',\n",
              "       'Avg CTAT', 'Cancelled Rides by Customer',\n",
              "       'Reason for cancelling by Customer', 'Cancelled Rides by Driver',\n",
              "       'Driver Cancellation Reason', 'Incomplete Rides',\n",
              "       'Incomplete Rides Reason', 'Booking Value', 'Ride Distance',\n",
              "       'Driver Ratings', 'Customer Rating', 'Payment Method'],\n",
              "      dtype='object')"
            ]
          },
          "metadata": {},
          "execution_count": 15
        }
      ],
      "source": [
        "data.columns"
      ]
    },
    {
      "cell_type": "markdown",
      "metadata": {
        "id": "a-R94QyFAQNq"
      },
      "source": [
        "**Seeking the important information of columns**"
      ]
    },
    {
      "cell_type": "code",
      "execution_count": null,
      "metadata": {
        "colab": {
          "base_uri": "https://localhost:8080/"
        },
        "id": "Eq2xjB2y5oDe",
        "outputId": "72ec838e-4275-4058-a973-a30a32f511a2"
      },
      "outputs": [
        {
          "name": "stdout",
          "output_type": "stream",
          "text": [
            "<class 'pandas.core.frame.DataFrame'>\n",
            "RangeIndex: 6181 entries, 0 to 6180\n",
            "Data columns (total 17 columns):\n",
            " #   Column           Non-Null Count  Dtype         \n",
            "---  ------           --------------  -----         \n",
            " 0   Date             6181 non-null   datetime64[ns]\n",
            " 1   Time             6181 non-null   object        \n",
            " 2   Booking ID       6181 non-null   object        \n",
            " 3   Booking Status   6181 non-null   object        \n",
            " 4   Customer ID      6181 non-null   object        \n",
            " 5   Vehicle Type     6181 non-null   object        \n",
            " 6   Pickup Location  6181 non-null   object        \n",
            " 7   Drop Location    6180 non-null   object        \n",
            " 8   Avg VTAT         6181 non-null   float64       \n",
            " 9   Avg CTAT         6181 non-null   float64       \n",
            " 10  Booking Value    6181 non-null   float64       \n",
            " 11  Ride Distance    6181 non-null   float64       \n",
            " 12  Driver Ratings   6181 non-null   float64       \n",
            " 13  Customer Rating  6181 non-null   float64       \n",
            " 14  Payment Method   6181 non-null   object        \n",
            " 15  year_month       6181 non-null   period[M]     \n",
            " 16  quarter          6181 non-null   period[Q-DEC] \n",
            "dtypes: datetime64[ns](1), float64(6), object(8), period[M](1), period[Q-DEC](1)\n",
            "memory usage: 821.0+ KB\n"
          ]
        }
      ],
      "source": [
        "data.info()\n"
      ]
    },
    {
      "cell_type": "markdown",
      "metadata": {
        "id": "1QPaE6RaAdx4"
      },
      "source": [
        "**Shape of the dataset**"
      ]
    },
    {
      "cell_type": "code",
      "execution_count": null,
      "metadata": {
        "colab": {
          "base_uri": "https://localhost:8080/"
        },
        "id": "BkrcE_Yw9MND",
        "outputId": "9e50b564-c11c-4cb7-9254-833695316145"
      },
      "outputs": [
        {
          "data": {
            "text/plain": [
              "(43133, 21)"
            ]
          },
          "execution_count": 18,
          "metadata": {},
          "output_type": "execute_result"
        }
      ],
      "source": [
        "data.shape"
      ]
    },
    {
      "cell_type": "markdown",
      "metadata": {
        "id": "QzLpf1-vA49Z"
      },
      "source": [
        "**Dimensions of the Dataset**"
      ]
    },
    {
      "cell_type": "code",
      "execution_count": null,
      "metadata": {
        "colab": {
          "base_uri": "https://localhost:8080/"
        },
        "id": "42wR4ck09ViF",
        "outputId": "ab7a9470-8648-44aa-9b48-da5811ba31eb"
      },
      "outputs": [
        {
          "data": {
            "text/plain": [
              "2"
            ]
          },
          "execution_count": 10,
          "metadata": {},
          "output_type": "execute_result"
        }
      ],
      "source": [
        "data.ndim"
      ]
    },
    {
      "cell_type": "markdown",
      "metadata": {
        "id": "uPF9Js7ABEJC"
      },
      "source": [
        "**Sneak Peek of the Dataset**"
      ]
    },
    {
      "cell_type": "code",
      "execution_count": null,
      "metadata": {
        "colab": {
          "base_uri": "https://localhost:8080/",
          "height": 394
        },
        "id": "Gwm2DJNP9Zyv",
        "outputId": "8e54ce6b-2a9d-4b58-dd63-d815035282f2"
      },
      "outputs": [
        {
          "data": {
            "application/vnd.google.colaboratory.intrinsic+json": {
              "type": "dataframe",
              "variable_name": "data"
            },
            "text/html": [
              "\n",
              "  <div id=\"df-35c41370-2368-4fa5-99c6-e3831a113830\" class=\"colab-df-container\">\n",
              "    <div>\n",
              "<style scoped>\n",
              "    .dataframe tbody tr th:only-of-type {\n",
              "        vertical-align: middle;\n",
              "    }\n",
              "\n",
              "    .dataframe tbody tr th {\n",
              "        vertical-align: top;\n",
              "    }\n",
              "\n",
              "    .dataframe thead th {\n",
              "        text-align: right;\n",
              "    }\n",
              "</style>\n",
              "<table border=\"1\" class=\"dataframe\">\n",
              "  <thead>\n",
              "    <tr style=\"text-align: right;\">\n",
              "      <th></th>\n",
              "      <th>Date</th>\n",
              "      <th>Time</th>\n",
              "      <th>Booking ID</th>\n",
              "      <th>Booking Status</th>\n",
              "      <th>Customer ID</th>\n",
              "      <th>Vehicle Type</th>\n",
              "      <th>Pickup Location</th>\n",
              "      <th>Drop Location</th>\n",
              "      <th>Avg VTAT</th>\n",
              "      <th>Avg CTAT</th>\n",
              "      <th>...</th>\n",
              "      <th>Reason for cancelling by Customer</th>\n",
              "      <th>Cancelled Rides by Driver</th>\n",
              "      <th>Driver Cancellation Reason</th>\n",
              "      <th>Incomplete Rides</th>\n",
              "      <th>Incomplete Rides Reason</th>\n",
              "      <th>Booking Value</th>\n",
              "      <th>Ride Distance</th>\n",
              "      <th>Driver Ratings</th>\n",
              "      <th>Customer Rating</th>\n",
              "      <th>Payment Method</th>\n",
              "    </tr>\n",
              "  </thead>\n",
              "  <tbody>\n",
              "    <tr>\n",
              "      <th>0</th>\n",
              "      <td>2024-03-23</td>\n",
              "      <td>12:29:38</td>\n",
              "      <td>\"CNR5884300\"</td>\n",
              "      <td>No Driver Found</td>\n",
              "      <td>\"CID1982111\"</td>\n",
              "      <td>eBike</td>\n",
              "      <td>Palam Vihar</td>\n",
              "      <td>Jhilmil</td>\n",
              "      <td>NaN</td>\n",
              "      <td>NaN</td>\n",
              "      <td>...</td>\n",
              "      <td>NaN</td>\n",
              "      <td>NaN</td>\n",
              "      <td>NaN</td>\n",
              "      <td>NaN</td>\n",
              "      <td>NaN</td>\n",
              "      <td>NaN</td>\n",
              "      <td>NaN</td>\n",
              "      <td>NaN</td>\n",
              "      <td>NaN</td>\n",
              "      <td>NaN</td>\n",
              "    </tr>\n",
              "    <tr>\n",
              "      <th>1</th>\n",
              "      <td>2024-11-29</td>\n",
              "      <td>18:01:39</td>\n",
              "      <td>\"CNR1326809\"</td>\n",
              "      <td>Incomplete</td>\n",
              "      <td>\"CID4604802\"</td>\n",
              "      <td>Go Sedan</td>\n",
              "      <td>Shastri Nagar</td>\n",
              "      <td>Gurgaon Sector 56</td>\n",
              "      <td>4.9</td>\n",
              "      <td>14.0</td>\n",
              "      <td>...</td>\n",
              "      <td>NaN</td>\n",
              "      <td>NaN</td>\n",
              "      <td>NaN</td>\n",
              "      <td>1.0</td>\n",
              "      <td>Vehicle Breakdown</td>\n",
              "      <td>237.0</td>\n",
              "      <td>5.73</td>\n",
              "      <td>NaN</td>\n",
              "      <td>NaN</td>\n",
              "      <td>UPI</td>\n",
              "    </tr>\n",
              "    <tr>\n",
              "      <th>2</th>\n",
              "      <td>2024-08-23</td>\n",
              "      <td>08:56:10</td>\n",
              "      <td>\"CNR8494506\"</td>\n",
              "      <td>Completed</td>\n",
              "      <td>\"CID9202816\"</td>\n",
              "      <td>Auto</td>\n",
              "      <td>Khandsa</td>\n",
              "      <td>Malviya Nagar</td>\n",
              "      <td>13.4</td>\n",
              "      <td>25.8</td>\n",
              "      <td>...</td>\n",
              "      <td>NaN</td>\n",
              "      <td>NaN</td>\n",
              "      <td>NaN</td>\n",
              "      <td>NaN</td>\n",
              "      <td>NaN</td>\n",
              "      <td>627.0</td>\n",
              "      <td>13.58</td>\n",
              "      <td>4.9</td>\n",
              "      <td>4.9</td>\n",
              "      <td>Debit Card</td>\n",
              "    </tr>\n",
              "    <tr>\n",
              "      <th>3</th>\n",
              "      <td>2024-10-21</td>\n",
              "      <td>17:17:25</td>\n",
              "      <td>\"CNR8906825\"</td>\n",
              "      <td>Completed</td>\n",
              "      <td>\"CID2610914\"</td>\n",
              "      <td>Premier Sedan</td>\n",
              "      <td>Central Secretariat</td>\n",
              "      <td>Inderlok</td>\n",
              "      <td>13.1</td>\n",
              "      <td>28.5</td>\n",
              "      <td>...</td>\n",
              "      <td>NaN</td>\n",
              "      <td>NaN</td>\n",
              "      <td>NaN</td>\n",
              "      <td>NaN</td>\n",
              "      <td>NaN</td>\n",
              "      <td>416.0</td>\n",
              "      <td>34.02</td>\n",
              "      <td>4.6</td>\n",
              "      <td>5.0</td>\n",
              "      <td>UPI</td>\n",
              "    </tr>\n",
              "    <tr>\n",
              "      <th>4</th>\n",
              "      <td>2024-09-16</td>\n",
              "      <td>22:08:00</td>\n",
              "      <td>\"CNR1950162\"</td>\n",
              "      <td>Completed</td>\n",
              "      <td>\"CID9933542\"</td>\n",
              "      <td>Bike</td>\n",
              "      <td>Ghitorni Village</td>\n",
              "      <td>Khan Market</td>\n",
              "      <td>5.3</td>\n",
              "      <td>19.6</td>\n",
              "      <td>...</td>\n",
              "      <td>NaN</td>\n",
              "      <td>NaN</td>\n",
              "      <td>NaN</td>\n",
              "      <td>NaN</td>\n",
              "      <td>NaN</td>\n",
              "      <td>737.0</td>\n",
              "      <td>48.21</td>\n",
              "      <td>4.1</td>\n",
              "      <td>4.3</td>\n",
              "      <td>UPI</td>\n",
              "    </tr>\n",
              "  </tbody>\n",
              "</table>\n",
              "<p>5 rows × 21 columns</p>\n",
              "</div>\n",
              "    <div class=\"colab-df-buttons\">\n",
              "\n",
              "  <div class=\"colab-df-container\">\n",
              "    <button class=\"colab-df-convert\" onclick=\"convertToInteractive('df-35c41370-2368-4fa5-99c6-e3831a113830')\"\n",
              "            title=\"Convert this dataframe to an interactive table.\"\n",
              "            style=\"display:none;\">\n",
              "\n",
              "  <svg xmlns=\"http://www.w3.org/2000/svg\" height=\"24px\" viewBox=\"0 -960 960 960\">\n",
              "    <path d=\"M120-120v-720h720v720H120Zm60-500h600v-160H180v160Zm220 220h160v-160H400v160Zm0 220h160v-160H400v160ZM180-400h160v-160H180v160Zm440 0h160v-160H620v160ZM180-180h160v-160H180v160Zm440 0h160v-160H620v160Z\"/>\n",
              "  </svg>\n",
              "    </button>\n",
              "\n",
              "  <style>\n",
              "    .colab-df-container {\n",
              "      display:flex;\n",
              "      gap: 12px;\n",
              "    }\n",
              "\n",
              "    .colab-df-convert {\n",
              "      background-color: #E8F0FE;\n",
              "      border: none;\n",
              "      border-radius: 50%;\n",
              "      cursor: pointer;\n",
              "      display: none;\n",
              "      fill: #1967D2;\n",
              "      height: 32px;\n",
              "      padding: 0 0 0 0;\n",
              "      width: 32px;\n",
              "    }\n",
              "\n",
              "    .colab-df-convert:hover {\n",
              "      background-color: #E2EBFA;\n",
              "      box-shadow: 0px 1px 2px rgba(60, 64, 67, 0.3), 0px 1px 3px 1px rgba(60, 64, 67, 0.15);\n",
              "      fill: #174EA6;\n",
              "    }\n",
              "\n",
              "    .colab-df-buttons div {\n",
              "      margin-bottom: 4px;\n",
              "    }\n",
              "\n",
              "    [theme=dark] .colab-df-convert {\n",
              "      background-color: #3B4455;\n",
              "      fill: #D2E3FC;\n",
              "    }\n",
              "\n",
              "    [theme=dark] .colab-df-convert:hover {\n",
              "      background-color: #434B5C;\n",
              "      box-shadow: 0px 1px 3px 1px rgba(0, 0, 0, 0.15);\n",
              "      filter: drop-shadow(0px 1px 2px rgba(0, 0, 0, 0.3));\n",
              "      fill: #FFFFFF;\n",
              "    }\n",
              "  </style>\n",
              "\n",
              "    <script>\n",
              "      const buttonEl =\n",
              "        document.querySelector('#df-35c41370-2368-4fa5-99c6-e3831a113830 button.colab-df-convert');\n",
              "      buttonEl.style.display =\n",
              "        google.colab.kernel.accessAllowed ? 'block' : 'none';\n",
              "\n",
              "      async function convertToInteractive(key) {\n",
              "        const element = document.querySelector('#df-35c41370-2368-4fa5-99c6-e3831a113830');\n",
              "        const dataTable =\n",
              "          await google.colab.kernel.invokeFunction('convertToInteractive',\n",
              "                                                    [key], {});\n",
              "        if (!dataTable) return;\n",
              "\n",
              "        const docLinkHtml = 'Like what you see? Visit the ' +\n",
              "          '<a target=\"_blank\" href=https://colab.research.google.com/notebooks/data_table.ipynb>data table notebook</a>'\n",
              "          + ' to learn more about interactive tables.';\n",
              "        element.innerHTML = '';\n",
              "        dataTable['output_type'] = 'display_data';\n",
              "        await google.colab.output.renderOutput(dataTable, element);\n",
              "        const docLink = document.createElement('div');\n",
              "        docLink.innerHTML = docLinkHtml;\n",
              "        element.appendChild(docLink);\n",
              "      }\n",
              "    </script>\n",
              "  </div>\n",
              "\n",
              "\n",
              "    <div id=\"df-5cee138a-8a83-4513-ada8-f852b012996b\">\n",
              "      <button class=\"colab-df-quickchart\" onclick=\"quickchart('df-5cee138a-8a83-4513-ada8-f852b012996b')\"\n",
              "                title=\"Suggest charts\"\n",
              "                style=\"display:none;\">\n",
              "\n",
              "<svg xmlns=\"http://www.w3.org/2000/svg\" height=\"24px\"viewBox=\"0 0 24 24\"\n",
              "     width=\"24px\">\n",
              "    <g>\n",
              "        <path d=\"M19 3H5c-1.1 0-2 .9-2 2v14c0 1.1.9 2 2 2h14c1.1 0 2-.9 2-2V5c0-1.1-.9-2-2-2zM9 17H7v-7h2v7zm4 0h-2V7h2v10zm4 0h-2v-4h2v4z\"/>\n",
              "    </g>\n",
              "</svg>\n",
              "      </button>\n",
              "\n",
              "<style>\n",
              "  .colab-df-quickchart {\n",
              "      --bg-color: #E8F0FE;\n",
              "      --fill-color: #1967D2;\n",
              "      --hover-bg-color: #E2EBFA;\n",
              "      --hover-fill-color: #174EA6;\n",
              "      --disabled-fill-color: #AAA;\n",
              "      --disabled-bg-color: #DDD;\n",
              "  }\n",
              "\n",
              "  [theme=dark] .colab-df-quickchart {\n",
              "      --bg-color: #3B4455;\n",
              "      --fill-color: #D2E3FC;\n",
              "      --hover-bg-color: #434B5C;\n",
              "      --hover-fill-color: #FFFFFF;\n",
              "      --disabled-bg-color: #3B4455;\n",
              "      --disabled-fill-color: #666;\n",
              "  }\n",
              "\n",
              "  .colab-df-quickchart {\n",
              "    background-color: var(--bg-color);\n",
              "    border: none;\n",
              "    border-radius: 50%;\n",
              "    cursor: pointer;\n",
              "    display: none;\n",
              "    fill: var(--fill-color);\n",
              "    height: 32px;\n",
              "    padding: 0;\n",
              "    width: 32px;\n",
              "  }\n",
              "\n",
              "  .colab-df-quickchart:hover {\n",
              "    background-color: var(--hover-bg-color);\n",
              "    box-shadow: 0 1px 2px rgba(60, 64, 67, 0.3), 0 1px 3px 1px rgba(60, 64, 67, 0.15);\n",
              "    fill: var(--button-hover-fill-color);\n",
              "  }\n",
              "\n",
              "  .colab-df-quickchart-complete:disabled,\n",
              "  .colab-df-quickchart-complete:disabled:hover {\n",
              "    background-color: var(--disabled-bg-color);\n",
              "    fill: var(--disabled-fill-color);\n",
              "    box-shadow: none;\n",
              "  }\n",
              "\n",
              "  .colab-df-spinner {\n",
              "    border: 2px solid var(--fill-color);\n",
              "    border-color: transparent;\n",
              "    border-bottom-color: var(--fill-color);\n",
              "    animation:\n",
              "      spin 1s steps(1) infinite;\n",
              "  }\n",
              "\n",
              "  @keyframes spin {\n",
              "    0% {\n",
              "      border-color: transparent;\n",
              "      border-bottom-color: var(--fill-color);\n",
              "      border-left-color: var(--fill-color);\n",
              "    }\n",
              "    20% {\n",
              "      border-color: transparent;\n",
              "      border-left-color: var(--fill-color);\n",
              "      border-top-color: var(--fill-color);\n",
              "    }\n",
              "    30% {\n",
              "      border-color: transparent;\n",
              "      border-left-color: var(--fill-color);\n",
              "      border-top-color: var(--fill-color);\n",
              "      border-right-color: var(--fill-color);\n",
              "    }\n",
              "    40% {\n",
              "      border-color: transparent;\n",
              "      border-right-color: var(--fill-color);\n",
              "      border-top-color: var(--fill-color);\n",
              "    }\n",
              "    60% {\n",
              "      border-color: transparent;\n",
              "      border-right-color: var(--fill-color);\n",
              "    }\n",
              "    80% {\n",
              "      border-color: transparent;\n",
              "      border-right-color: var(--fill-color);\n",
              "      border-bottom-color: var(--fill-color);\n",
              "    }\n",
              "    90% {\n",
              "      border-color: transparent;\n",
              "      border-bottom-color: var(--fill-color);\n",
              "    }\n",
              "  }\n",
              "</style>\n",
              "\n",
              "      <script>\n",
              "        async function quickchart(key) {\n",
              "          const quickchartButtonEl =\n",
              "            document.querySelector('#' + key + ' button');\n",
              "          quickchartButtonEl.disabled = true;  // To prevent multiple clicks.\n",
              "          quickchartButtonEl.classList.add('colab-df-spinner');\n",
              "          try {\n",
              "            const charts = await google.colab.kernel.invokeFunction(\n",
              "                'suggestCharts', [key], {});\n",
              "          } catch (error) {\n",
              "            console.error('Error during call to suggestCharts:', error);\n",
              "          }\n",
              "          quickchartButtonEl.classList.remove('colab-df-spinner');\n",
              "          quickchartButtonEl.classList.add('colab-df-quickchart-complete');\n",
              "        }\n",
              "        (() => {\n",
              "          let quickchartButtonEl =\n",
              "            document.querySelector('#df-5cee138a-8a83-4513-ada8-f852b012996b button');\n",
              "          quickchartButtonEl.style.display =\n",
              "            google.colab.kernel.accessAllowed ? 'block' : 'none';\n",
              "        })();\n",
              "      </script>\n",
              "    </div>\n",
              "\n",
              "    </div>\n",
              "  </div>\n"
            ],
            "text/plain": [
              "         Date      Time    Booking ID   Booking Status   Customer ID  \\\n",
              "0  2024-03-23  12:29:38  \"CNR5884300\"  No Driver Found  \"CID1982111\"   \n",
              "1  2024-11-29  18:01:39  \"CNR1326809\"       Incomplete  \"CID4604802\"   \n",
              "2  2024-08-23  08:56:10  \"CNR8494506\"        Completed  \"CID9202816\"   \n",
              "3  2024-10-21  17:17:25  \"CNR8906825\"        Completed  \"CID2610914\"   \n",
              "4  2024-09-16  22:08:00  \"CNR1950162\"        Completed  \"CID9933542\"   \n",
              "\n",
              "    Vehicle Type      Pickup Location      Drop Location  Avg VTAT  Avg CTAT  \\\n",
              "0          eBike          Palam Vihar            Jhilmil       NaN       NaN   \n",
              "1       Go Sedan        Shastri Nagar  Gurgaon Sector 56       4.9      14.0   \n",
              "2           Auto              Khandsa      Malviya Nagar      13.4      25.8   \n",
              "3  Premier Sedan  Central Secretariat           Inderlok      13.1      28.5   \n",
              "4           Bike     Ghitorni Village        Khan Market       5.3      19.6   \n",
              "\n",
              "   ...  Reason for cancelling by Customer Cancelled Rides by Driver  \\\n",
              "0  ...                                NaN                       NaN   \n",
              "1  ...                                NaN                       NaN   \n",
              "2  ...                                NaN                       NaN   \n",
              "3  ...                                NaN                       NaN   \n",
              "4  ...                                NaN                       NaN   \n",
              "\n",
              "   Driver Cancellation Reason Incomplete Rides  Incomplete Rides Reason  \\\n",
              "0                         NaN              NaN                      NaN   \n",
              "1                         NaN              1.0        Vehicle Breakdown   \n",
              "2                         NaN              NaN                      NaN   \n",
              "3                         NaN              NaN                      NaN   \n",
              "4                         NaN              NaN                      NaN   \n",
              "\n",
              "  Booking Value  Ride Distance  Driver Ratings  Customer Rating  \\\n",
              "0           NaN            NaN             NaN              NaN   \n",
              "1         237.0           5.73             NaN              NaN   \n",
              "2         627.0          13.58             4.9              4.9   \n",
              "3         416.0          34.02             4.6              5.0   \n",
              "4         737.0          48.21             4.1              4.3   \n",
              "\n",
              "   Payment Method  \n",
              "0             NaN  \n",
              "1             UPI  \n",
              "2      Debit Card  \n",
              "3             UPI  \n",
              "4             UPI  \n",
              "\n",
              "[5 rows x 21 columns]"
            ]
          },
          "execution_count": 20,
          "metadata": {},
          "output_type": "execute_result"
        }
      ],
      "source": [
        "data.head()"
      ]
    },
    {
      "cell_type": "code",
      "execution_count": null,
      "metadata": {
        "colab": {
          "base_uri": "https://localhost:8080/",
          "height": 451
        },
        "id": "D50bI_Cc9eiQ",
        "outputId": "44a01bfd-13dc-435d-f1a8-c09941912b38"
      },
      "outputs": [
        {
          "data": {
            "application/vnd.google.colaboratory.intrinsic+json": {
              "type": "dataframe"
            },
            "text/html": [
              "\n",
              "  <div id=\"df-15b22ac9-8195-47e6-9032-bfe9282e9162\" class=\"colab-df-container\">\n",
              "    <div>\n",
              "<style scoped>\n",
              "    .dataframe tbody tr th:only-of-type {\n",
              "        vertical-align: middle;\n",
              "    }\n",
              "\n",
              "    .dataframe tbody tr th {\n",
              "        vertical-align: top;\n",
              "    }\n",
              "\n",
              "    .dataframe thead th {\n",
              "        text-align: right;\n",
              "    }\n",
              "</style>\n",
              "<table border=\"1\" class=\"dataframe\">\n",
              "  <thead>\n",
              "    <tr style=\"text-align: right;\">\n",
              "      <th></th>\n",
              "      <th>Date</th>\n",
              "      <th>Time</th>\n",
              "      <th>Booking ID</th>\n",
              "      <th>Booking Status</th>\n",
              "      <th>Customer ID</th>\n",
              "      <th>Vehicle Type</th>\n",
              "      <th>Pickup Location</th>\n",
              "      <th>Drop Location</th>\n",
              "      <th>Avg VTAT</th>\n",
              "      <th>Avg CTAT</th>\n",
              "      <th>Cancelled Rides by Customer</th>\n",
              "      <th>Reason for cancelling by Customer</th>\n",
              "      <th>Cancelled Rides by Driver</th>\n",
              "      <th>Driver Cancellation Reason</th>\n",
              "      <th>Incomplete Rides</th>\n",
              "      <th>Incomplete Rides Reason</th>\n",
              "      <th>Booking Value</th>\n",
              "      <th>Ride Distance</th>\n",
              "      <th>Driver Ratings</th>\n",
              "      <th>Customer Rating</th>\n",
              "      <th>Payment Method</th>\n",
              "    </tr>\n",
              "  </thead>\n",
              "  <tbody>\n",
              "    <tr>\n",
              "      <th>43259</th>\n",
              "      <td>16-10-2024</td>\n",
              "      <td>15:13:04</td>\n",
              "      <td>\"CNR3769499\"</td>\n",
              "      <td>Completed</td>\n",
              "      <td>\"CID9104477\"</td>\n",
              "      <td>Go Mini</td>\n",
              "      <td>Maidan Garhi</td>\n",
              "      <td>Mundka</td>\n",
              "      <td>10.9</td>\n",
              "      <td>28.0</td>\n",
              "      <td>NaN</td>\n",
              "      <td>NaN</td>\n",
              "      <td>NaN</td>\n",
              "      <td>NaN</td>\n",
              "      <td>NaN</td>\n",
              "      <td>NaN</td>\n",
              "      <td>77.0</td>\n",
              "      <td>39.54</td>\n",
              "      <td>4.6</td>\n",
              "      <td>4.6</td>\n",
              "      <td>UPI</td>\n",
              "    </tr>\n",
              "    <tr>\n",
              "      <th>43260</th>\n",
              "      <td>17-07-2024</td>\n",
              "      <td>12:52:15</td>\n",
              "      <td>\"CNR8244483\"</td>\n",
              "      <td>Completed</td>\n",
              "      <td>\"CID2489779\"</td>\n",
              "      <td>Bike</td>\n",
              "      <td>Ghitorni Village</td>\n",
              "      <td>Shivaji Park</td>\n",
              "      <td>14.4</td>\n",
              "      <td>20.3</td>\n",
              "      <td>NaN</td>\n",
              "      <td>NaN</td>\n",
              "      <td>NaN</td>\n",
              "      <td>NaN</td>\n",
              "      <td>NaN</td>\n",
              "      <td>NaN</td>\n",
              "      <td>1095.0</td>\n",
              "      <td>26.09</td>\n",
              "      <td>4.5</td>\n",
              "      <td>4.2</td>\n",
              "      <td>Uber Wallet</td>\n",
              "    </tr>\n",
              "    <tr>\n",
              "      <th>43261</th>\n",
              "      <td>26-11-2024</td>\n",
              "      <td>17:42:56</td>\n",
              "      <td>\"CNR8102533\"</td>\n",
              "      <td>Completed</td>\n",
              "      <td>\"CID5194995\"</td>\n",
              "      <td>Auto</td>\n",
              "      <td>Govindpuri</td>\n",
              "      <td>Bhiwadi</td>\n",
              "      <td>14.6</td>\n",
              "      <td>37.8</td>\n",
              "      <td>NaN</td>\n",
              "      <td>NaN</td>\n",
              "      <td>NaN</td>\n",
              "      <td>NaN</td>\n",
              "      <td>NaN</td>\n",
              "      <td>NaN</td>\n",
              "      <td>894.0</td>\n",
              "      <td>10.10</td>\n",
              "      <td>4.6</td>\n",
              "      <td>4.3</td>\n",
              "      <td>UPI</td>\n",
              "    </tr>\n",
              "    <tr>\n",
              "      <th>43262</th>\n",
              "      <td>30-03-2024</td>\n",
              "      <td>06:25:59</td>\n",
              "      <td>\"CNR5910778\"</td>\n",
              "      <td>Completed</td>\n",
              "      <td>\"CID2778824\"</td>\n",
              "      <td>Go Sedan</td>\n",
              "      <td>Ashok Park Main</td>\n",
              "      <td>Bhikaji Cama Place</td>\n",
              "      <td>7.1</td>\n",
              "      <td>39.5</td>\n",
              "      <td>NaN</td>\n",
              "      <td>NaN</td>\n",
              "      <td>NaN</td>\n",
              "      <td>NaN</td>\n",
              "      <td>NaN</td>\n",
              "      <td>NaN</td>\n",
              "      <td>257.0</td>\n",
              "      <td>49.10</td>\n",
              "      <td>4.4</td>\n",
              "      <td>4.5</td>\n",
              "      <td>Uber Wallet</td>\n",
              "    </tr>\n",
              "    <tr>\n",
              "      <th>43263</th>\n",
              "      <td>12-11-2024</td>\n",
              "      <td>13:11:33</td>\n",
              "      <td>\"CNR5027005\"</td>\n",
              "      <td>Cancelled by Customer</td>\n",
              "      <td>\"CID9638939\"</td>\n",
              "      <td>Auto</td>\n",
              "      <td>Ashok Park Main</td>\n",
              "      <td>Paharganj</td>\n",
              "      <td>6.7</td>\n",
              "      <td>NaN</td>\n",
              "      <td>1.0</td>\n",
              "      <td>Driver asked to cancel</td>\n",
              "      <td>NaN</td>\n",
              "      <td>NaN</td>\n",
              "      <td>NaN</td>\n",
              "      <td>NaN</td>\n",
              "      <td>NaN</td>\n",
              "      <td>NaN</td>\n",
              "      <td>NaN</td>\n",
              "      <td>NaN</td>\n",
              "      <td>NaN</td>\n",
              "    </tr>\n",
              "  </tbody>\n",
              "</table>\n",
              "</div>\n",
              "    <div class=\"colab-df-buttons\">\n",
              "\n",
              "  <div class=\"colab-df-container\">\n",
              "    <button class=\"colab-df-convert\" onclick=\"convertToInteractive('df-15b22ac9-8195-47e6-9032-bfe9282e9162')\"\n",
              "            title=\"Convert this dataframe to an interactive table.\"\n",
              "            style=\"display:none;\">\n",
              "\n",
              "  <svg xmlns=\"http://www.w3.org/2000/svg\" height=\"24px\" viewBox=\"0 -960 960 960\">\n",
              "    <path d=\"M120-120v-720h720v720H120Zm60-500h600v-160H180v160Zm220 220h160v-160H400v160Zm0 220h160v-160H400v160ZM180-400h160v-160H180v160Zm440 0h160v-160H620v160ZM180-180h160v-160H180v160Zm440 0h160v-160H620v160Z\"/>\n",
              "  </svg>\n",
              "    </button>\n",
              "\n",
              "  <style>\n",
              "    .colab-df-container {\n",
              "      display:flex;\n",
              "      gap: 12px;\n",
              "    }\n",
              "\n",
              "    .colab-df-convert {\n",
              "      background-color: #E8F0FE;\n",
              "      border: none;\n",
              "      border-radius: 50%;\n",
              "      cursor: pointer;\n",
              "      display: none;\n",
              "      fill: #1967D2;\n",
              "      height: 32px;\n",
              "      padding: 0 0 0 0;\n",
              "      width: 32px;\n",
              "    }\n",
              "\n",
              "    .colab-df-convert:hover {\n",
              "      background-color: #E2EBFA;\n",
              "      box-shadow: 0px 1px 2px rgba(60, 64, 67, 0.3), 0px 1px 3px 1px rgba(60, 64, 67, 0.15);\n",
              "      fill: #174EA6;\n",
              "    }\n",
              "\n",
              "    .colab-df-buttons div {\n",
              "      margin-bottom: 4px;\n",
              "    }\n",
              "\n",
              "    [theme=dark] .colab-df-convert {\n",
              "      background-color: #3B4455;\n",
              "      fill: #D2E3FC;\n",
              "    }\n",
              "\n",
              "    [theme=dark] .colab-df-convert:hover {\n",
              "      background-color: #434B5C;\n",
              "      box-shadow: 0px 1px 3px 1px rgba(0, 0, 0, 0.15);\n",
              "      filter: drop-shadow(0px 1px 2px rgba(0, 0, 0, 0.3));\n",
              "      fill: #FFFFFF;\n",
              "    }\n",
              "  </style>\n",
              "\n",
              "    <script>\n",
              "      const buttonEl =\n",
              "        document.querySelector('#df-15b22ac9-8195-47e6-9032-bfe9282e9162 button.colab-df-convert');\n",
              "      buttonEl.style.display =\n",
              "        google.colab.kernel.accessAllowed ? 'block' : 'none';\n",
              "\n",
              "      async function convertToInteractive(key) {\n",
              "        const element = document.querySelector('#df-15b22ac9-8195-47e6-9032-bfe9282e9162');\n",
              "        const dataTable =\n",
              "          await google.colab.kernel.invokeFunction('convertToInteractive',\n",
              "                                                    [key], {});\n",
              "        if (!dataTable) return;\n",
              "\n",
              "        const docLinkHtml = 'Like what you see? Visit the ' +\n",
              "          '<a target=\"_blank\" href=https://colab.research.google.com/notebooks/data_table.ipynb>data table notebook</a>'\n",
              "          + ' to learn more about interactive tables.';\n",
              "        element.innerHTML = '';\n",
              "        dataTable['output_type'] = 'display_data';\n",
              "        await google.colab.output.renderOutput(dataTable, element);\n",
              "        const docLink = document.createElement('div');\n",
              "        docLink.innerHTML = docLinkHtml;\n",
              "        element.appendChild(docLink);\n",
              "      }\n",
              "    </script>\n",
              "  </div>\n",
              "\n",
              "\n",
              "    <div id=\"df-4de8781d-bcb1-4b59-8083-4a0a912b966d\">\n",
              "      <button class=\"colab-df-quickchart\" onclick=\"quickchart('df-4de8781d-bcb1-4b59-8083-4a0a912b966d')\"\n",
              "                title=\"Suggest charts\"\n",
              "                style=\"display:none;\">\n",
              "\n",
              "<svg xmlns=\"http://www.w3.org/2000/svg\" height=\"24px\"viewBox=\"0 0 24 24\"\n",
              "     width=\"24px\">\n",
              "    <g>\n",
              "        <path d=\"M19 3H5c-1.1 0-2 .9-2 2v14c0 1.1.9 2 2 2h14c1.1 0 2-.9 2-2V5c0-1.1-.9-2-2-2zM9 17H7v-7h2v7zm4 0h-2V7h2v10zm4 0h-2v-4h2v4z\"/>\n",
              "    </g>\n",
              "</svg>\n",
              "      </button>\n",
              "\n",
              "<style>\n",
              "  .colab-df-quickchart {\n",
              "      --bg-color: #E8F0FE;\n",
              "      --fill-color: #1967D2;\n",
              "      --hover-bg-color: #E2EBFA;\n",
              "      --hover-fill-color: #174EA6;\n",
              "      --disabled-fill-color: #AAA;\n",
              "      --disabled-bg-color: #DDD;\n",
              "  }\n",
              "\n",
              "  [theme=dark] .colab-df-quickchart {\n",
              "      --bg-color: #3B4455;\n",
              "      --fill-color: #D2E3FC;\n",
              "      --hover-bg-color: #434B5C;\n",
              "      --hover-fill-color: #FFFFFF;\n",
              "      --disabled-bg-color: #3B4455;\n",
              "      --disabled-fill-color: #666;\n",
              "  }\n",
              "\n",
              "  .colab-df-quickchart {\n",
              "    background-color: var(--bg-color);\n",
              "    border: none;\n",
              "    border-radius: 50%;\n",
              "    cursor: pointer;\n",
              "    display: none;\n",
              "    fill: var(--fill-color);\n",
              "    height: 32px;\n",
              "    padding: 0;\n",
              "    width: 32px;\n",
              "  }\n",
              "\n",
              "  .colab-df-quickchart:hover {\n",
              "    background-color: var(--hover-bg-color);\n",
              "    box-shadow: 0 1px 2px rgba(60, 64, 67, 0.3), 0 1px 3px 1px rgba(60, 64, 67, 0.15);\n",
              "    fill: var(--button-hover-fill-color);\n",
              "  }\n",
              "\n",
              "  .colab-df-quickchart-complete:disabled,\n",
              "  .colab-df-quickchart-complete:disabled:hover {\n",
              "    background-color: var(--disabled-bg-color);\n",
              "    fill: var(--disabled-fill-color);\n",
              "    box-shadow: none;\n",
              "  }\n",
              "\n",
              "  .colab-df-spinner {\n",
              "    border: 2px solid var(--fill-color);\n",
              "    border-color: transparent;\n",
              "    border-bottom-color: var(--fill-color);\n",
              "    animation:\n",
              "      spin 1s steps(1) infinite;\n",
              "  }\n",
              "\n",
              "  @keyframes spin {\n",
              "    0% {\n",
              "      border-color: transparent;\n",
              "      border-bottom-color: var(--fill-color);\n",
              "      border-left-color: var(--fill-color);\n",
              "    }\n",
              "    20% {\n",
              "      border-color: transparent;\n",
              "      border-left-color: var(--fill-color);\n",
              "      border-top-color: var(--fill-color);\n",
              "    }\n",
              "    30% {\n",
              "      border-color: transparent;\n",
              "      border-left-color: var(--fill-color);\n",
              "      border-top-color: var(--fill-color);\n",
              "      border-right-color: var(--fill-color);\n",
              "    }\n",
              "    40% {\n",
              "      border-color: transparent;\n",
              "      border-right-color: var(--fill-color);\n",
              "      border-top-color: var(--fill-color);\n",
              "    }\n",
              "    60% {\n",
              "      border-color: transparent;\n",
              "      border-right-color: var(--fill-color);\n",
              "    }\n",
              "    80% {\n",
              "      border-color: transparent;\n",
              "      border-right-color: var(--fill-color);\n",
              "      border-bottom-color: var(--fill-color);\n",
              "    }\n",
              "    90% {\n",
              "      border-color: transparent;\n",
              "      border-bottom-color: var(--fill-color);\n",
              "    }\n",
              "  }\n",
              "</style>\n",
              "\n",
              "      <script>\n",
              "        async function quickchart(key) {\n",
              "          const quickchartButtonEl =\n",
              "            document.querySelector('#' + key + ' button');\n",
              "          quickchartButtonEl.disabled = true;  // To prevent multiple clicks.\n",
              "          quickchartButtonEl.classList.add('colab-df-spinner');\n",
              "          try {\n",
              "            const charts = await google.colab.kernel.invokeFunction(\n",
              "                'suggestCharts', [key], {});\n",
              "          } catch (error) {\n",
              "            console.error('Error during call to suggestCharts:', error);\n",
              "          }\n",
              "          quickchartButtonEl.classList.remove('colab-df-spinner');\n",
              "          quickchartButtonEl.classList.add('colab-df-quickchart-complete');\n",
              "        }\n",
              "        (() => {\n",
              "          let quickchartButtonEl =\n",
              "            document.querySelector('#df-4de8781d-bcb1-4b59-8083-4a0a912b966d button');\n",
              "          quickchartButtonEl.style.display =\n",
              "            google.colab.kernel.accessAllowed ? 'block' : 'none';\n",
              "        })();\n",
              "      </script>\n",
              "    </div>\n",
              "\n",
              "    </div>\n",
              "  </div>\n"
            ],
            "text/plain": [
              "             Date      Time    Booking ID         Booking Status  \\\n",
              "43259  16-10-2024  15:13:04  \"CNR3769499\"              Completed   \n",
              "43260  17-07-2024  12:52:15  \"CNR8244483\"              Completed   \n",
              "43261  26-11-2024  17:42:56  \"CNR8102533\"              Completed   \n",
              "43262  30-03-2024  06:25:59  \"CNR5910778\"              Completed   \n",
              "43263  12-11-2024  13:11:33  \"CNR5027005\"  Cancelled by Customer   \n",
              "\n",
              "        Customer ID Vehicle Type   Pickup Location       Drop Location  \\\n",
              "43259  \"CID9104477\"      Go Mini      Maidan Garhi              Mundka   \n",
              "43260  \"CID2489779\"         Bike  Ghitorni Village        Shivaji Park   \n",
              "43261  \"CID5194995\"         Auto        Govindpuri             Bhiwadi   \n",
              "43262  \"CID2778824\"     Go Sedan   Ashok Park Main  Bhikaji Cama Place   \n",
              "43263  \"CID9638939\"         Auto   Ashok Park Main           Paharganj   \n",
              "\n",
              "       Avg VTAT  Avg CTAT  Cancelled Rides by Customer  \\\n",
              "43259      10.9      28.0                          NaN   \n",
              "43260      14.4      20.3                          NaN   \n",
              "43261      14.6      37.8                          NaN   \n",
              "43262       7.1      39.5                          NaN   \n",
              "43263       6.7       NaN                          1.0   \n",
              "\n",
              "      Reason for cancelling by Customer  Cancelled Rides by Driver  \\\n",
              "43259                               NaN                        NaN   \n",
              "43260                               NaN                        NaN   \n",
              "43261                               NaN                        NaN   \n",
              "43262                               NaN                        NaN   \n",
              "43263            Driver asked to cancel                        NaN   \n",
              "\n",
              "      Driver Cancellation Reason  Incomplete Rides Incomplete Rides Reason  \\\n",
              "43259                        NaN               NaN                     NaN   \n",
              "43260                        NaN               NaN                     NaN   \n",
              "43261                        NaN               NaN                     NaN   \n",
              "43262                        NaN               NaN                     NaN   \n",
              "43263                        NaN               NaN                     NaN   \n",
              "\n",
              "       Booking Value  Ride Distance  Driver Ratings  Customer Rating  \\\n",
              "43259           77.0          39.54             4.6              4.6   \n",
              "43260         1095.0          26.09             4.5              4.2   \n",
              "43261          894.0          10.10             4.6              4.3   \n",
              "43262          257.0          49.10             4.4              4.5   \n",
              "43263            NaN            NaN             NaN              NaN   \n",
              "\n",
              "      Payment Method  \n",
              "43259            UPI  \n",
              "43260    Uber Wallet  \n",
              "43261            UPI  \n",
              "43262    Uber Wallet  \n",
              "43263            NaN  "
            ]
          },
          "execution_count": 25,
          "metadata": {},
          "output_type": "execute_result"
        }
      ],
      "source": [
        "data.tail()"
      ]
    },
    {
      "cell_type": "markdown",
      "metadata": {
        "id": "7oY6fKkOBboL"
      },
      "source": [
        "**Describing the Dataset**"
      ]
    },
    {
      "cell_type": "code",
      "execution_count": null,
      "metadata": {
        "colab": {
          "base_uri": "https://localhost:8080/",
          "height": 335
        },
        "id": "5yvkOY0N9rEa",
        "outputId": "1f1a297e-a77d-4bb5-8ef7-feac3f55e2c2"
      },
      "outputs": [
        {
          "data": {
            "application/vnd.google.colaboratory.intrinsic+json": {
              "summary": "{\n  \"name\": \"data\",\n  \"rows\": 8,\n  \"fields\": [\n    {\n      \"column\": \"Avg VTAT\",\n      \"properties\": {\n        \"dtype\": \"number\",\n        \"std\": 14205.268902473184,\n        \"min\": 2.0,\n        \"max\": 40187.0,\n        \"num_unique_values\": 8,\n        \"samples\": [\n          8.458941946400577,\n          8.2,\n          40187.0\n        ],\n        \"semantic_type\": \"\",\n        \"description\": \"\"\n      }\n    },\n    {\n      \"column\": \"Avg CTAT\",\n      \"properties\": {\n        \"dtype\": \"number\",\n        \"std\": 10406.59327928633,\n        \"min\": 8.900768836584358,\n        \"max\": 29460.0,\n        \"num_unique_values\": 8,\n        \"samples\": [\n          29.10857773251867,\n          28.7,\n          29460.0\n        ],\n        \"semantic_type\": \"\",\n        \"description\": \"\"\n      }\n    },\n    {\n      \"column\": \"Cancelled Rides by Customer\",\n      \"properties\": {\n        \"dtype\": \"number\",\n        \"std\": 1066.0140376990487,\n        \"min\": 0.0,\n        \"max\": 3016.0,\n        \"num_unique_values\": 3,\n        \"samples\": [\n          3016.0,\n          1.0,\n          0.0\n        ],\n        \"semantic_type\": \"\",\n        \"description\": \"\"\n      }\n    },\n    {\n      \"column\": \"Cancelled Rides by Driver\",\n      \"properties\": {\n        \"dtype\": \"number\",\n        \"std\": 2725.9471715612644,\n        \"min\": 0.0,\n        \"max\": 7711.0,\n        \"num_unique_values\": 3,\n        \"samples\": [\n          7711.0,\n          1.0,\n          0.0\n        ],\n        \"semantic_type\": \"\",\n        \"description\": \"\"\n      }\n    },\n    {\n      \"column\": \"Incomplete Rides\",\n      \"properties\": {\n        \"dtype\": \"number\",\n        \"std\": 930.249544093258,\n        \"min\": 0.0,\n        \"max\": 2632.0,\n        \"num_unique_values\": 3,\n        \"samples\": [\n          2632.0,\n          1.0,\n          0.0\n        ],\n        \"semantic_type\": \"\",\n        \"description\": \"\"\n      }\n    },\n    {\n      \"column\": \"Booking Value\",\n      \"properties\": {\n        \"dtype\": \"number\",\n        \"std\": 10178.337220785905,\n        \"min\": 50.0,\n        \"max\": 29460.0,\n        \"num_unique_values\": 8,\n        \"samples\": [\n          504.4904955872369,\n          412.0,\n          29460.0\n        ],\n        \"semantic_type\": \"\",\n        \"description\": \"\"\n      }\n    },\n    {\n      \"column\": \"Ride Distance\",\n      \"properties\": {\n        \"dtype\": \"number\",\n        \"std\": 10407.463455378203,\n        \"min\": 1.0,\n        \"max\": 29460.0,\n        \"num_unique_values\": 8,\n        \"samples\": [\n          24.72422233536999,\n          23.82,\n          29460.0\n        ],\n        \"semantic_type\": \"\",\n        \"description\": \"\"\n      }\n    },\n    {\n      \"column\": \"Driver Ratings\",\n      \"properties\": {\n        \"dtype\": \"number\",\n        \"std\": 9483.833988644723,\n        \"min\": 0.43784077998085597,\n        \"max\": 26828.0,\n        \"num_unique_values\": 8,\n        \"samples\": [\n          4.23120992992396,\n          4.3,\n          26828.0\n        ],\n        \"semantic_type\": \"\",\n        \"description\": \"\"\n      }\n    },\n    {\n      \"column\": \"Customer Rating\",\n      \"properties\": {\n        \"dtype\": \"number\",\n        \"std\": 9483.805010261161,\n        \"min\": 0.43889341405458177,\n        \"max\": 26828.0,\n        \"num_unique_values\": 8,\n        \"samples\": [\n          4.404021917399731,\n          4.4,\n          26828.0\n        ],\n        \"semantic_type\": \"\",\n        \"description\": \"\"\n      }\n    }\n  ]\n}",
              "type": "dataframe"
            },
            "text/html": [
              "\n",
              "  <div id=\"df-eff9c9a8-e88b-48f4-94e3-e9c33e44a7a3\" class=\"colab-df-container\">\n",
              "    <div>\n",
              "<style scoped>\n",
              "    .dataframe tbody tr th:only-of-type {\n",
              "        vertical-align: middle;\n",
              "    }\n",
              "\n",
              "    .dataframe tbody tr th {\n",
              "        vertical-align: top;\n",
              "    }\n",
              "\n",
              "    .dataframe thead th {\n",
              "        text-align: right;\n",
              "    }\n",
              "</style>\n",
              "<table border=\"1\" class=\"dataframe\">\n",
              "  <thead>\n",
              "    <tr style=\"text-align: right;\">\n",
              "      <th></th>\n",
              "      <th>Avg VTAT</th>\n",
              "      <th>Avg CTAT</th>\n",
              "      <th>Cancelled Rides by Customer</th>\n",
              "      <th>Cancelled Rides by Driver</th>\n",
              "      <th>Incomplete Rides</th>\n",
              "      <th>Booking Value</th>\n",
              "      <th>Ride Distance</th>\n",
              "      <th>Driver Ratings</th>\n",
              "      <th>Customer Rating</th>\n",
              "    </tr>\n",
              "  </thead>\n",
              "  <tbody>\n",
              "    <tr>\n",
              "      <th>count</th>\n",
              "      <td>40187.000000</td>\n",
              "      <td>29460.000000</td>\n",
              "      <td>3016.0</td>\n",
              "      <td>7711.0</td>\n",
              "      <td>2632.0</td>\n",
              "      <td>29460.000000</td>\n",
              "      <td>29460.000000</td>\n",
              "      <td>26828.000000</td>\n",
              "      <td>26828.000000</td>\n",
              "    </tr>\n",
              "    <tr>\n",
              "      <th>mean</th>\n",
              "      <td>8.458942</td>\n",
              "      <td>29.108578</td>\n",
              "      <td>1.0</td>\n",
              "      <td>1.0</td>\n",
              "      <td>1.0</td>\n",
              "      <td>504.490496</td>\n",
              "      <td>24.724222</td>\n",
              "      <td>4.231210</td>\n",
              "      <td>4.404022</td>\n",
              "    </tr>\n",
              "    <tr>\n",
              "      <th>std</th>\n",
              "      <td>3.787301</td>\n",
              "      <td>8.900769</td>\n",
              "      <td>0.0</td>\n",
              "      <td>0.0</td>\n",
              "      <td>0.0</td>\n",
              "      <td>388.272827</td>\n",
              "      <td>13.986274</td>\n",
              "      <td>0.437841</td>\n",
              "      <td>0.438893</td>\n",
              "    </tr>\n",
              "    <tr>\n",
              "      <th>min</th>\n",
              "      <td>2.000000</td>\n",
              "      <td>10.000000</td>\n",
              "      <td>1.0</td>\n",
              "      <td>1.0</td>\n",
              "      <td>1.0</td>\n",
              "      <td>50.000000</td>\n",
              "      <td>1.000000</td>\n",
              "      <td>3.000000</td>\n",
              "      <td>3.000000</td>\n",
              "    </tr>\n",
              "    <tr>\n",
              "      <th>25%</th>\n",
              "      <td>5.300000</td>\n",
              "      <td>21.600000</td>\n",
              "      <td>1.0</td>\n",
              "      <td>1.0</td>\n",
              "      <td>1.0</td>\n",
              "      <td>233.000000</td>\n",
              "      <td>12.660000</td>\n",
              "      <td>4.100000</td>\n",
              "      <td>4.200000</td>\n",
              "    </tr>\n",
              "    <tr>\n",
              "      <th>50%</th>\n",
              "      <td>8.200000</td>\n",
              "      <td>28.700000</td>\n",
              "      <td>1.0</td>\n",
              "      <td>1.0</td>\n",
              "      <td>1.0</td>\n",
              "      <td>412.000000</td>\n",
              "      <td>23.820000</td>\n",
              "      <td>4.300000</td>\n",
              "      <td>4.400000</td>\n",
              "    </tr>\n",
              "    <tr>\n",
              "      <th>75%</th>\n",
              "      <td>11.300000</td>\n",
              "      <td>36.800000</td>\n",
              "      <td>1.0</td>\n",
              "      <td>1.0</td>\n",
              "      <td>1.0</td>\n",
              "      <td>686.000000</td>\n",
              "      <td>36.762500</td>\n",
              "      <td>4.600000</td>\n",
              "      <td>4.800000</td>\n",
              "    </tr>\n",
              "    <tr>\n",
              "      <th>max</th>\n",
              "      <td>20.000000</td>\n",
              "      <td>45.000000</td>\n",
              "      <td>1.0</td>\n",
              "      <td>1.0</td>\n",
              "      <td>1.0</td>\n",
              "      <td>4277.000000</td>\n",
              "      <td>50.000000</td>\n",
              "      <td>5.000000</td>\n",
              "      <td>5.000000</td>\n",
              "    </tr>\n",
              "  </tbody>\n",
              "</table>\n",
              "</div>\n",
              "    <div class=\"colab-df-buttons\">\n",
              "\n",
              "  <div class=\"colab-df-container\">\n",
              "    <button class=\"colab-df-convert\" onclick=\"convertToInteractive('df-eff9c9a8-e88b-48f4-94e3-e9c33e44a7a3')\"\n",
              "            title=\"Convert this dataframe to an interactive table.\"\n",
              "            style=\"display:none;\">\n",
              "\n",
              "  <svg xmlns=\"http://www.w3.org/2000/svg\" height=\"24px\" viewBox=\"0 -960 960 960\">\n",
              "    <path d=\"M120-120v-720h720v720H120Zm60-500h600v-160H180v160Zm220 220h160v-160H400v160Zm0 220h160v-160H400v160ZM180-400h160v-160H180v160Zm440 0h160v-160H620v160ZM180-180h160v-160H180v160Zm440 0h160v-160H620v160Z\"/>\n",
              "  </svg>\n",
              "    </button>\n",
              "\n",
              "  <style>\n",
              "    .colab-df-container {\n",
              "      display:flex;\n",
              "      gap: 12px;\n",
              "    }\n",
              "\n",
              "    .colab-df-convert {\n",
              "      background-color: #E8F0FE;\n",
              "      border: none;\n",
              "      border-radius: 50%;\n",
              "      cursor: pointer;\n",
              "      display: none;\n",
              "      fill: #1967D2;\n",
              "      height: 32px;\n",
              "      padding: 0 0 0 0;\n",
              "      width: 32px;\n",
              "    }\n",
              "\n",
              "    .colab-df-convert:hover {\n",
              "      background-color: #E2EBFA;\n",
              "      box-shadow: 0px 1px 2px rgba(60, 64, 67, 0.3), 0px 1px 3px 1px rgba(60, 64, 67, 0.15);\n",
              "      fill: #174EA6;\n",
              "    }\n",
              "\n",
              "    .colab-df-buttons div {\n",
              "      margin-bottom: 4px;\n",
              "    }\n",
              "\n",
              "    [theme=dark] .colab-df-convert {\n",
              "      background-color: #3B4455;\n",
              "      fill: #D2E3FC;\n",
              "    }\n",
              "\n",
              "    [theme=dark] .colab-df-convert:hover {\n",
              "      background-color: #434B5C;\n",
              "      box-shadow: 0px 1px 3px 1px rgba(0, 0, 0, 0.15);\n",
              "      filter: drop-shadow(0px 1px 2px rgba(0, 0, 0, 0.3));\n",
              "      fill: #FFFFFF;\n",
              "    }\n",
              "  </style>\n",
              "\n",
              "    <script>\n",
              "      const buttonEl =\n",
              "        document.querySelector('#df-eff9c9a8-e88b-48f4-94e3-e9c33e44a7a3 button.colab-df-convert');\n",
              "      buttonEl.style.display =\n",
              "        google.colab.kernel.accessAllowed ? 'block' : 'none';\n",
              "\n",
              "      async function convertToInteractive(key) {\n",
              "        const element = document.querySelector('#df-eff9c9a8-e88b-48f4-94e3-e9c33e44a7a3');\n",
              "        const dataTable =\n",
              "          await google.colab.kernel.invokeFunction('convertToInteractive',\n",
              "                                                    [key], {});\n",
              "        if (!dataTable) return;\n",
              "\n",
              "        const docLinkHtml = 'Like what you see? Visit the ' +\n",
              "          '<a target=\"_blank\" href=https://colab.research.google.com/notebooks/data_table.ipynb>data table notebook</a>'\n",
              "          + ' to learn more about interactive tables.';\n",
              "        element.innerHTML = '';\n",
              "        dataTable['output_type'] = 'display_data';\n",
              "        await google.colab.output.renderOutput(dataTable, element);\n",
              "        const docLink = document.createElement('div');\n",
              "        docLink.innerHTML = docLinkHtml;\n",
              "        element.appendChild(docLink);\n",
              "      }\n",
              "    </script>\n",
              "  </div>\n",
              "\n",
              "\n",
              "    <div id=\"df-e5409c56-45cf-4824-bb86-fbddc2b119f5\">\n",
              "      <button class=\"colab-df-quickchart\" onclick=\"quickchart('df-e5409c56-45cf-4824-bb86-fbddc2b119f5')\"\n",
              "                title=\"Suggest charts\"\n",
              "                style=\"display:none;\">\n",
              "\n",
              "<svg xmlns=\"http://www.w3.org/2000/svg\" height=\"24px\"viewBox=\"0 0 24 24\"\n",
              "     width=\"24px\">\n",
              "    <g>\n",
              "        <path d=\"M19 3H5c-1.1 0-2 .9-2 2v14c0 1.1.9 2 2 2h14c1.1 0 2-.9 2-2V5c0-1.1-.9-2-2-2zM9 17H7v-7h2v7zm4 0h-2V7h2v10zm4 0h-2v-4h2v4z\"/>\n",
              "    </g>\n",
              "</svg>\n",
              "      </button>\n",
              "\n",
              "<style>\n",
              "  .colab-df-quickchart {\n",
              "      --bg-color: #E8F0FE;\n",
              "      --fill-color: #1967D2;\n",
              "      --hover-bg-color: #E2EBFA;\n",
              "      --hover-fill-color: #174EA6;\n",
              "      --disabled-fill-color: #AAA;\n",
              "      --disabled-bg-color: #DDD;\n",
              "  }\n",
              "\n",
              "  [theme=dark] .colab-df-quickchart {\n",
              "      --bg-color: #3B4455;\n",
              "      --fill-color: #D2E3FC;\n",
              "      --hover-bg-color: #434B5C;\n",
              "      --hover-fill-color: #FFFFFF;\n",
              "      --disabled-bg-color: #3B4455;\n",
              "      --disabled-fill-color: #666;\n",
              "  }\n",
              "\n",
              "  .colab-df-quickchart {\n",
              "    background-color: var(--bg-color);\n",
              "    border: none;\n",
              "    border-radius: 50%;\n",
              "    cursor: pointer;\n",
              "    display: none;\n",
              "    fill: var(--fill-color);\n",
              "    height: 32px;\n",
              "    padding: 0;\n",
              "    width: 32px;\n",
              "  }\n",
              "\n",
              "  .colab-df-quickchart:hover {\n",
              "    background-color: var(--hover-bg-color);\n",
              "    box-shadow: 0 1px 2px rgba(60, 64, 67, 0.3), 0 1px 3px 1px rgba(60, 64, 67, 0.15);\n",
              "    fill: var(--button-hover-fill-color);\n",
              "  }\n",
              "\n",
              "  .colab-df-quickchart-complete:disabled,\n",
              "  .colab-df-quickchart-complete:disabled:hover {\n",
              "    background-color: var(--disabled-bg-color);\n",
              "    fill: var(--disabled-fill-color);\n",
              "    box-shadow: none;\n",
              "  }\n",
              "\n",
              "  .colab-df-spinner {\n",
              "    border: 2px solid var(--fill-color);\n",
              "    border-color: transparent;\n",
              "    border-bottom-color: var(--fill-color);\n",
              "    animation:\n",
              "      spin 1s steps(1) infinite;\n",
              "  }\n",
              "\n",
              "  @keyframes spin {\n",
              "    0% {\n",
              "      border-color: transparent;\n",
              "      border-bottom-color: var(--fill-color);\n",
              "      border-left-color: var(--fill-color);\n",
              "    }\n",
              "    20% {\n",
              "      border-color: transparent;\n",
              "      border-left-color: var(--fill-color);\n",
              "      border-top-color: var(--fill-color);\n",
              "    }\n",
              "    30% {\n",
              "      border-color: transparent;\n",
              "      border-left-color: var(--fill-color);\n",
              "      border-top-color: var(--fill-color);\n",
              "      border-right-color: var(--fill-color);\n",
              "    }\n",
              "    40% {\n",
              "      border-color: transparent;\n",
              "      border-right-color: var(--fill-color);\n",
              "      border-top-color: var(--fill-color);\n",
              "    }\n",
              "    60% {\n",
              "      border-color: transparent;\n",
              "      border-right-color: var(--fill-color);\n",
              "    }\n",
              "    80% {\n",
              "      border-color: transparent;\n",
              "      border-right-color: var(--fill-color);\n",
              "      border-bottom-color: var(--fill-color);\n",
              "    }\n",
              "    90% {\n",
              "      border-color: transparent;\n",
              "      border-bottom-color: var(--fill-color);\n",
              "    }\n",
              "  }\n",
              "</style>\n",
              "\n",
              "      <script>\n",
              "        async function quickchart(key) {\n",
              "          const quickchartButtonEl =\n",
              "            document.querySelector('#' + key + ' button');\n",
              "          quickchartButtonEl.disabled = true;  // To prevent multiple clicks.\n",
              "          quickchartButtonEl.classList.add('colab-df-spinner');\n",
              "          try {\n",
              "            const charts = await google.colab.kernel.invokeFunction(\n",
              "                'suggestCharts', [key], {});\n",
              "          } catch (error) {\n",
              "            console.error('Error during call to suggestCharts:', error);\n",
              "          }\n",
              "          quickchartButtonEl.classList.remove('colab-df-spinner');\n",
              "          quickchartButtonEl.classList.add('colab-df-quickchart-complete');\n",
              "        }\n",
              "        (() => {\n",
              "          let quickchartButtonEl =\n",
              "            document.querySelector('#df-e5409c56-45cf-4824-bb86-fbddc2b119f5 button');\n",
              "          quickchartButtonEl.style.display =\n",
              "            google.colab.kernel.accessAllowed ? 'block' : 'none';\n",
              "        })();\n",
              "      </script>\n",
              "    </div>\n",
              "\n",
              "    </div>\n",
              "  </div>\n"
            ],
            "text/plain": [
              "           Avg VTAT      Avg CTAT  Cancelled Rides by Customer  \\\n",
              "count  40187.000000  29460.000000                       3016.0   \n",
              "mean       8.458942     29.108578                          1.0   \n",
              "std        3.787301      8.900769                          0.0   \n",
              "min        2.000000     10.000000                          1.0   \n",
              "25%        5.300000     21.600000                          1.0   \n",
              "50%        8.200000     28.700000                          1.0   \n",
              "75%       11.300000     36.800000                          1.0   \n",
              "max       20.000000     45.000000                          1.0   \n",
              "\n",
              "       Cancelled Rides by Driver  Incomplete Rides  Booking Value  \\\n",
              "count                     7711.0            2632.0   29460.000000   \n",
              "mean                         1.0               1.0     504.490496   \n",
              "std                          0.0               0.0     388.272827   \n",
              "min                          1.0               1.0      50.000000   \n",
              "25%                          1.0               1.0     233.000000   \n",
              "50%                          1.0               1.0     412.000000   \n",
              "75%                          1.0               1.0     686.000000   \n",
              "max                          1.0               1.0    4277.000000   \n",
              "\n",
              "       Ride Distance  Driver Ratings  Customer Rating  \n",
              "count   29460.000000    26828.000000     26828.000000  \n",
              "mean       24.724222        4.231210         4.404022  \n",
              "std        13.986274        0.437841         0.438893  \n",
              "min         1.000000        3.000000         3.000000  \n",
              "25%        12.660000        4.100000         4.200000  \n",
              "50%        23.820000        4.300000         4.400000  \n",
              "75%        36.762500        4.600000         4.800000  \n",
              "max        50.000000        5.000000         5.000000  "
            ]
          },
          "execution_count": 26,
          "metadata": {},
          "output_type": "execute_result"
        }
      ],
      "source": [
        "data.describe()"
      ]
    },
    {
      "cell_type": "markdown",
      "metadata": {
        "id": "uIK1NA-XBogy"
      },
      "source": [
        "**Column Data Types**"
      ]
    },
    {
      "cell_type": "code",
      "execution_count": null,
      "metadata": {
        "colab": {
          "base_uri": "https://localhost:8080/",
          "height": 742
        },
        "id": "to_Spuy3FAfx",
        "outputId": "e0f465d0-69b9-4556-fbda-08a73027859a"
      },
      "outputs": [
        {
          "data": {
            "text/html": [
              "<div>\n",
              "<style scoped>\n",
              "    .dataframe tbody tr th:only-of-type {\n",
              "        vertical-align: middle;\n",
              "    }\n",
              "\n",
              "    .dataframe tbody tr th {\n",
              "        vertical-align: top;\n",
              "    }\n",
              "\n",
              "    .dataframe thead th {\n",
              "        text-align: right;\n",
              "    }\n",
              "</style>\n",
              "<table border=\"1\" class=\"dataframe\">\n",
              "  <thead>\n",
              "    <tr style=\"text-align: right;\">\n",
              "      <th></th>\n",
              "      <th>0</th>\n",
              "    </tr>\n",
              "  </thead>\n",
              "  <tbody>\n",
              "    <tr>\n",
              "      <th>Date</th>\n",
              "      <td>object</td>\n",
              "    </tr>\n",
              "    <tr>\n",
              "      <th>Time</th>\n",
              "      <td>object</td>\n",
              "    </tr>\n",
              "    <tr>\n",
              "      <th>Booking ID</th>\n",
              "      <td>object</td>\n",
              "    </tr>\n",
              "    <tr>\n",
              "      <th>Booking Status</th>\n",
              "      <td>object</td>\n",
              "    </tr>\n",
              "    <tr>\n",
              "      <th>Customer ID</th>\n",
              "      <td>object</td>\n",
              "    </tr>\n",
              "    <tr>\n",
              "      <th>Vehicle Type</th>\n",
              "      <td>object</td>\n",
              "    </tr>\n",
              "    <tr>\n",
              "      <th>Pickup Location</th>\n",
              "      <td>object</td>\n",
              "    </tr>\n",
              "    <tr>\n",
              "      <th>Drop Location</th>\n",
              "      <td>object</td>\n",
              "    </tr>\n",
              "    <tr>\n",
              "      <th>Avg VTAT</th>\n",
              "      <td>float64</td>\n",
              "    </tr>\n",
              "    <tr>\n",
              "      <th>Avg CTAT</th>\n",
              "      <td>float64</td>\n",
              "    </tr>\n",
              "    <tr>\n",
              "      <th>Cancelled Rides by Customer</th>\n",
              "      <td>float64</td>\n",
              "    </tr>\n",
              "    <tr>\n",
              "      <th>Reason for cancelling by Customer</th>\n",
              "      <td>object</td>\n",
              "    </tr>\n",
              "    <tr>\n",
              "      <th>Cancelled Rides by Driver</th>\n",
              "      <td>float64</td>\n",
              "    </tr>\n",
              "    <tr>\n",
              "      <th>Driver Cancellation Reason</th>\n",
              "      <td>object</td>\n",
              "    </tr>\n",
              "    <tr>\n",
              "      <th>Incomplete Rides</th>\n",
              "      <td>float64</td>\n",
              "    </tr>\n",
              "    <tr>\n",
              "      <th>Incomplete Rides Reason</th>\n",
              "      <td>object</td>\n",
              "    </tr>\n",
              "    <tr>\n",
              "      <th>Booking Value</th>\n",
              "      <td>float64</td>\n",
              "    </tr>\n",
              "    <tr>\n",
              "      <th>Ride Distance</th>\n",
              "      <td>float64</td>\n",
              "    </tr>\n",
              "    <tr>\n",
              "      <th>Driver Ratings</th>\n",
              "      <td>float64</td>\n",
              "    </tr>\n",
              "    <tr>\n",
              "      <th>Customer Rating</th>\n",
              "      <td>float64</td>\n",
              "    </tr>\n",
              "    <tr>\n",
              "      <th>Payment Method</th>\n",
              "      <td>object</td>\n",
              "    </tr>\n",
              "  </tbody>\n",
              "</table>\n",
              "</div><br><label><b>dtype:</b> object</label>"
            ],
            "text/plain": [
              "Date                                  object\n",
              "Time                                  object\n",
              "Booking ID                            object\n",
              "Booking Status                        object\n",
              "Customer ID                           object\n",
              "Vehicle Type                          object\n",
              "Pickup Location                       object\n",
              "Drop Location                         object\n",
              "Avg VTAT                             float64\n",
              "Avg CTAT                             float64\n",
              "Cancelled Rides by Customer          float64\n",
              "Reason for cancelling by Customer     object\n",
              "Cancelled Rides by Driver            float64\n",
              "Driver Cancellation Reason            object\n",
              "Incomplete Rides                     float64\n",
              "Incomplete Rides Reason               object\n",
              "Booking Value                        float64\n",
              "Ride Distance                        float64\n",
              "Driver Ratings                       float64\n",
              "Customer Rating                      float64\n",
              "Payment Method                        object\n",
              "dtype: object"
            ]
          },
          "execution_count": 8,
          "metadata": {},
          "output_type": "execute_result"
        }
      ],
      "source": [
        "data.dtypes"
      ]
    },
    {
      "cell_type": "markdown",
      "metadata": {
        "id": "iGUO7MnSB1Q5"
      },
      "source": [
        "**Counting the Non-Null Values**"
      ]
    },
    {
      "cell_type": "code",
      "execution_count": null,
      "metadata": {
        "colab": {
          "background_save": true,
          "base_uri": "https://localhost:8080/",
          "height": 742
        },
        "id": "xq2ZuW3lIBJ_",
        "outputId": "14f23c29-97bc-4ec1-9cd6-6b43cc97a13a"
      },
      "outputs": [
        {
          "data": {
            "text/html": [
              "<div>\n",
              "<style scoped>\n",
              "    .dataframe tbody tr th:only-of-type {\n",
              "        vertical-align: middle;\n",
              "    }\n",
              "\n",
              "    .dataframe tbody tr th {\n",
              "        vertical-align: top;\n",
              "    }\n",
              "\n",
              "    .dataframe thead th {\n",
              "        text-align: right;\n",
              "    }\n",
              "</style>\n",
              "<table border=\"1\" class=\"dataframe\">\n",
              "  <thead>\n",
              "    <tr style=\"text-align: right;\">\n",
              "      <th></th>\n",
              "      <th>0</th>\n",
              "    </tr>\n",
              "  </thead>\n",
              "  <tbody>\n",
              "    <tr>\n",
              "      <th>Date</th>\n",
              "      <td>6181</td>\n",
              "    </tr>\n",
              "    <tr>\n",
              "      <th>Time</th>\n",
              "      <td>6181</td>\n",
              "    </tr>\n",
              "    <tr>\n",
              "      <th>Booking ID</th>\n",
              "      <td>6181</td>\n",
              "    </tr>\n",
              "    <tr>\n",
              "      <th>Booking Status</th>\n",
              "      <td>6181</td>\n",
              "    </tr>\n",
              "    <tr>\n",
              "      <th>Customer ID</th>\n",
              "      <td>6181</td>\n",
              "    </tr>\n",
              "    <tr>\n",
              "      <th>Vehicle Type</th>\n",
              "      <td>6181</td>\n",
              "    </tr>\n",
              "    <tr>\n",
              "      <th>Pickup Location</th>\n",
              "      <td>6181</td>\n",
              "    </tr>\n",
              "    <tr>\n",
              "      <th>Drop Location</th>\n",
              "      <td>6180</td>\n",
              "    </tr>\n",
              "    <tr>\n",
              "      <th>Avg VTAT</th>\n",
              "      <td>5763</td>\n",
              "    </tr>\n",
              "    <tr>\n",
              "      <th>Avg CTAT</th>\n",
              "      <td>4236</td>\n",
              "    </tr>\n",
              "    <tr>\n",
              "      <th>Cancelled Rides by Customer</th>\n",
              "      <td>441</td>\n",
              "    </tr>\n",
              "    <tr>\n",
              "      <th>Reason for cancelling by Customer</th>\n",
              "      <td>441</td>\n",
              "    </tr>\n",
              "    <tr>\n",
              "      <th>Cancelled Rides by Driver</th>\n",
              "      <td>1086</td>\n",
              "    </tr>\n",
              "    <tr>\n",
              "      <th>Driver Cancellation Reason</th>\n",
              "      <td>1086</td>\n",
              "    </tr>\n",
              "    <tr>\n",
              "      <th>Incomplete Rides</th>\n",
              "      <td>391</td>\n",
              "    </tr>\n",
              "    <tr>\n",
              "      <th>Incomplete Rides Reason</th>\n",
              "      <td>391</td>\n",
              "    </tr>\n",
              "    <tr>\n",
              "      <th>Booking Value</th>\n",
              "      <td>4236</td>\n",
              "    </tr>\n",
              "    <tr>\n",
              "      <th>Ride Distance</th>\n",
              "      <td>4236</td>\n",
              "    </tr>\n",
              "    <tr>\n",
              "      <th>Driver Ratings</th>\n",
              "      <td>3845</td>\n",
              "    </tr>\n",
              "    <tr>\n",
              "      <th>Customer Rating</th>\n",
              "      <td>3845</td>\n",
              "    </tr>\n",
              "    <tr>\n",
              "      <th>Payment Method</th>\n",
              "      <td>6181</td>\n",
              "    </tr>\n",
              "    <tr>\n",
              "      <th>year_month</th>\n",
              "      <td>6181</td>\n",
              "    </tr>\n",
              "    <tr>\n",
              "      <th>quarter</th>\n",
              "      <td>6181</td>\n",
              "    </tr>\n",
              "  </tbody>\n",
              "</table>\n",
              "</div><br><label><b>dtype:</b> int64</label>"
            ],
            "text/plain": [
              "Date                                 6181\n",
              "Time                                 6181\n",
              "Booking ID                           6181\n",
              "Booking Status                       6181\n",
              "Customer ID                          6181\n",
              "Vehicle Type                         6181\n",
              "Pickup Location                      6181\n",
              "Drop Location                        6180\n",
              "Avg VTAT                             5763\n",
              "Avg CTAT                             4236\n",
              "Cancelled Rides by Customer           441\n",
              "Reason for cancelling by Customer     441\n",
              "Cancelled Rides by Driver            1086\n",
              "Driver Cancellation Reason           1086\n",
              "Incomplete Rides                      391\n",
              "Incomplete Rides Reason               391\n",
              "Booking Value                        4236\n",
              "Ride Distance                        4236\n",
              "Driver Ratings                       3845\n",
              "Customer Rating                      3845\n",
              "Payment Method                       6181\n",
              "year_month                           6181\n",
              "quarter                              6181\n",
              "dtype: int64"
            ]
          },
          "execution_count": 41,
          "metadata": {},
          "output_type": "execute_result"
        }
      ],
      "source": [
        "data.count()"
      ]
    },
    {
      "cell_type": "markdown",
      "metadata": {
        "id": "He_weMfXEle4"
      },
      "source": [
        "**Dealing with the Null Values**"
      ]
    },
    {
      "cell_type": "markdown",
      "metadata": {
        "id": "wqsiZ00QCo_f"
      },
      "source": [
        "**Counting the Null Values**"
      ]
    },
    {
      "cell_type": "code",
      "execution_count": null,
      "metadata": {
        "colab": {
          "base_uri": "https://localhost:8080/",
          "height": 742
        },
        "id": "sHwYYwkGKnPy",
        "outputId": "4a221968-e00f-4a79-e288-3960d6545d17"
      },
      "outputs": [
        {
          "data": {
            "text/html": [
              "<div>\n",
              "<style scoped>\n",
              "    .dataframe tbody tr th:only-of-type {\n",
              "        vertical-align: middle;\n",
              "    }\n",
              "\n",
              "    .dataframe tbody tr th {\n",
              "        vertical-align: top;\n",
              "    }\n",
              "\n",
              "    .dataframe thead th {\n",
              "        text-align: right;\n",
              "    }\n",
              "</style>\n",
              "<table border=\"1\" class=\"dataframe\">\n",
              "  <thead>\n",
              "    <tr style=\"text-align: right;\">\n",
              "      <th></th>\n",
              "      <th>0</th>\n",
              "    </tr>\n",
              "  </thead>\n",
              "  <tbody>\n",
              "    <tr>\n",
              "      <th>Incomplete Rides Reason</th>\n",
              "      <td>40632</td>\n",
              "    </tr>\n",
              "    <tr>\n",
              "      <th>Incomplete Rides</th>\n",
              "      <td>40632</td>\n",
              "    </tr>\n",
              "    <tr>\n",
              "      <th>Reason for cancelling by Customer</th>\n",
              "      <td>40248</td>\n",
              "    </tr>\n",
              "    <tr>\n",
              "      <th>Cancelled Rides by Customer</th>\n",
              "      <td>40248</td>\n",
              "    </tr>\n",
              "    <tr>\n",
              "      <th>Cancelled Rides by Driver</th>\n",
              "      <td>35553</td>\n",
              "    </tr>\n",
              "    <tr>\n",
              "      <th>Driver Cancellation Reason</th>\n",
              "      <td>35553</td>\n",
              "    </tr>\n",
              "    <tr>\n",
              "      <th>Driver Ratings</th>\n",
              "      <td>16436</td>\n",
              "    </tr>\n",
              "    <tr>\n",
              "      <th>Customer Rating</th>\n",
              "      <td>16436</td>\n",
              "    </tr>\n",
              "    <tr>\n",
              "      <th>Avg CTAT</th>\n",
              "      <td>13804</td>\n",
              "    </tr>\n",
              "    <tr>\n",
              "      <th>Ride Distance</th>\n",
              "      <td>13804</td>\n",
              "    </tr>\n",
              "    <tr>\n",
              "      <th>Booking Value</th>\n",
              "      <td>13804</td>\n",
              "    </tr>\n",
              "    <tr>\n",
              "      <th>Payment Method</th>\n",
              "      <td>13804</td>\n",
              "    </tr>\n",
              "    <tr>\n",
              "      <th>Avg VTAT</th>\n",
              "      <td>3077</td>\n",
              "    </tr>\n",
              "    <tr>\n",
              "      <th>Customer ID</th>\n",
              "      <td>0</td>\n",
              "    </tr>\n",
              "    <tr>\n",
              "      <th>Booking Status</th>\n",
              "      <td>0</td>\n",
              "    </tr>\n",
              "    <tr>\n",
              "      <th>Booking ID</th>\n",
              "      <td>0</td>\n",
              "    </tr>\n",
              "    <tr>\n",
              "      <th>Time</th>\n",
              "      <td>0</td>\n",
              "    </tr>\n",
              "    <tr>\n",
              "      <th>Date</th>\n",
              "      <td>0</td>\n",
              "    </tr>\n",
              "    <tr>\n",
              "      <th>Pickup Location</th>\n",
              "      <td>0</td>\n",
              "    </tr>\n",
              "    <tr>\n",
              "      <th>Drop Location</th>\n",
              "      <td>0</td>\n",
              "    </tr>\n",
              "    <tr>\n",
              "      <th>Vehicle Type</th>\n",
              "      <td>0</td>\n",
              "    </tr>\n",
              "  </tbody>\n",
              "</table>\n",
              "</div><br><label><b>dtype:</b> int64</label>"
            ],
            "text/plain": [
              "Incomplete Rides Reason              40632\n",
              "Incomplete Rides                     40632\n",
              "Reason for cancelling by Customer    40248\n",
              "Cancelled Rides by Customer          40248\n",
              "Cancelled Rides by Driver            35553\n",
              "Driver Cancellation Reason           35553\n",
              "Driver Ratings                       16436\n",
              "Customer Rating                      16436\n",
              "Avg CTAT                             13804\n",
              "Ride Distance                        13804\n",
              "Booking Value                        13804\n",
              "Payment Method                       13804\n",
              "Avg VTAT                              3077\n",
              "Customer ID                              0\n",
              "Booking Status                           0\n",
              "Booking ID                               0\n",
              "Time                                     0\n",
              "Date                                     0\n",
              "Pickup Location                          0\n",
              "Drop Location                            0\n",
              "Vehicle Type                             0\n",
              "dtype: int64"
            ]
          },
          "execution_count": 11,
          "metadata": {},
          "output_type": "execute_result"
        }
      ],
      "source": [
        "data.isnull().sum().sort_values(ascending = False)"
      ]
    },
    {
      "cell_type": "markdown",
      "metadata": {
        "id": "6O3Da6PMEyYf"
      },
      "source": [
        "**Percentage Null Values Present in the DataSet**"
      ]
    },
    {
      "cell_type": "code",
      "execution_count": null,
      "metadata": {
        "colab": {
          "base_uri": "https://localhost:8080/",
          "height": 742
        },
        "id": "W0qjsGBrLA3p",
        "outputId": "67179047-3331-48c0-dcd0-c74fb439536e"
      },
      "outputs": [
        {
          "data": {
            "text/html": [
              "<div>\n",
              "<style scoped>\n",
              "    .dataframe tbody tr th:only-of-type {\n",
              "        vertical-align: middle;\n",
              "    }\n",
              "\n",
              "    .dataframe tbody tr th {\n",
              "        vertical-align: top;\n",
              "    }\n",
              "\n",
              "    .dataframe thead th {\n",
              "        text-align: right;\n",
              "    }\n",
              "</style>\n",
              "<table border=\"1\" class=\"dataframe\">\n",
              "  <thead>\n",
              "    <tr style=\"text-align: right;\">\n",
              "      <th></th>\n",
              "      <th>0</th>\n",
              "    </tr>\n",
              "  </thead>\n",
              "  <tbody>\n",
              "    <tr>\n",
              "      <th>Incomplete Rides Reason</th>\n",
              "      <td>93.92</td>\n",
              "    </tr>\n",
              "    <tr>\n",
              "      <th>Incomplete Rides</th>\n",
              "      <td>93.92</td>\n",
              "    </tr>\n",
              "    <tr>\n",
              "      <th>Reason for cancelling by Customer</th>\n",
              "      <td>93.03</td>\n",
              "    </tr>\n",
              "    <tr>\n",
              "      <th>Cancelled Rides by Customer</th>\n",
              "      <td>93.03</td>\n",
              "    </tr>\n",
              "    <tr>\n",
              "      <th>Cancelled Rides by Driver</th>\n",
              "      <td>82.18</td>\n",
              "    </tr>\n",
              "    <tr>\n",
              "      <th>Driver Cancellation Reason</th>\n",
              "      <td>82.18</td>\n",
              "    </tr>\n",
              "    <tr>\n",
              "      <th>Driver Ratings</th>\n",
              "      <td>37.99</td>\n",
              "    </tr>\n",
              "    <tr>\n",
              "      <th>Customer Rating</th>\n",
              "      <td>37.99</td>\n",
              "    </tr>\n",
              "    <tr>\n",
              "      <th>Avg CTAT</th>\n",
              "      <td>31.91</td>\n",
              "    </tr>\n",
              "    <tr>\n",
              "      <th>Ride Distance</th>\n",
              "      <td>31.91</td>\n",
              "    </tr>\n",
              "    <tr>\n",
              "      <th>Booking Value</th>\n",
              "      <td>31.91</td>\n",
              "    </tr>\n",
              "    <tr>\n",
              "      <th>Payment Method</th>\n",
              "      <td>31.91</td>\n",
              "    </tr>\n",
              "    <tr>\n",
              "      <th>Avg VTAT</th>\n",
              "      <td>7.11</td>\n",
              "    </tr>\n",
              "    <tr>\n",
              "      <th>Customer ID</th>\n",
              "      <td>0.00</td>\n",
              "    </tr>\n",
              "    <tr>\n",
              "      <th>Booking Status</th>\n",
              "      <td>0.00</td>\n",
              "    </tr>\n",
              "    <tr>\n",
              "      <th>Booking ID</th>\n",
              "      <td>0.00</td>\n",
              "    </tr>\n",
              "    <tr>\n",
              "      <th>Time</th>\n",
              "      <td>0.00</td>\n",
              "    </tr>\n",
              "    <tr>\n",
              "      <th>Date</th>\n",
              "      <td>0.00</td>\n",
              "    </tr>\n",
              "    <tr>\n",
              "      <th>Pickup Location</th>\n",
              "      <td>0.00</td>\n",
              "    </tr>\n",
              "    <tr>\n",
              "      <th>Drop Location</th>\n",
              "      <td>0.00</td>\n",
              "    </tr>\n",
              "    <tr>\n",
              "      <th>Vehicle Type</th>\n",
              "      <td>0.00</td>\n",
              "    </tr>\n",
              "  </tbody>\n",
              "</table>\n",
              "</div><br><label><b>dtype:</b> float64</label>"
            ],
            "text/plain": [
              "Incomplete Rides Reason              93.92\n",
              "Incomplete Rides                     93.92\n",
              "Reason for cancelling by Customer    93.03\n",
              "Cancelled Rides by Customer          93.03\n",
              "Cancelled Rides by Driver            82.18\n",
              "Driver Cancellation Reason           82.18\n",
              "Driver Ratings                       37.99\n",
              "Customer Rating                      37.99\n",
              "Avg CTAT                             31.91\n",
              "Ride Distance                        31.91\n",
              "Booking Value                        31.91\n",
              "Payment Method                       31.91\n",
              "Avg VTAT                              7.11\n",
              "Customer ID                           0.00\n",
              "Booking Status                        0.00\n",
              "Booking ID                            0.00\n",
              "Time                                  0.00\n",
              "Date                                  0.00\n",
              "Pickup Location                       0.00\n",
              "Drop Location                         0.00\n",
              "Vehicle Type                          0.00\n",
              "dtype: float64"
            ]
          },
          "execution_count": 12,
          "metadata": {},
          "output_type": "execute_result"
        }
      ],
      "source": [
        "round(data.isnull().sum() / len(data) * 100, 2).sort_values(ascending=False)"
      ]
    },
    {
      "cell_type": "markdown",
      "metadata": {
        "id": "KbDBTH1tFBz-"
      },
      "source": [
        "**Total Null Data Present in the DataSet**"
      ]
    },
    {
      "cell_type": "code",
      "execution_count": null,
      "metadata": {
        "colab": {
          "base_uri": "https://localhost:8080/"
        },
        "id": "K8P0ePPULNq8",
        "outputId": "3dc69ab9-2aef-450e-8690-183e2e78834a"
      },
      "outputs": [
        {
          "data": {
            "text/plain": [
              "np.int64(324031)"
            ]
          },
          "execution_count": 14,
          "metadata": {},
          "output_type": "execute_result"
        }
      ],
      "source": [
        "data.isnull().sum().sum()"
      ]
    },
    {
      "cell_type": "markdown",
      "metadata": {
        "id": "yUklF2f-FNa7"
      },
      "source": [
        "**Visualisation of Null data in different Columns**"
      ]
    },
    {
      "cell_type": "code",
      "execution_count": null,
      "metadata": {
        "colab": {
          "base_uri": "https://localhost:8080/",
          "height": 650
        },
        "id": "OGNvXGSjMPmx",
        "outputId": "a6495a09-596b-43ce-a784-6fb0bd66d3a4"
      },
      "outputs": [
        {
          "data": {
            "text/plain": [
              "<Axes: >"
            ]
          },
          "execution_count": 22,
          "metadata": {},
          "output_type": "execute_result"
        },
        {
          "data": {
            "image/png": "[encoded data removed]",
            "text/plain": [
              "<Figure size 2200x1000 with 1 Axes>"
            ]
          },
          "metadata": {},
          "output_type": "display_data"
        }
      ],
      "source": [
        "\n",
        "\n",
        "plt.figure(figsize=(22,10))\n",
        "sns.heatmap(data.isnull(), yticklabels=False, cbar=False, cmap='viridis')"
      ]
    },
    {
      "cell_type": "code",
      "execution_count": null,
      "metadata": {
        "colab": {
          "base_uri": "https://localhost:8080/"
        },
        "id": "wfE7iosK73yk",
        "outputId": "8ee77665-2e9e-4891-c2c3-726713f49f09"
      },
      "outputs": [
        {
          "name": "stderr",
          "output_type": "stream",
          "text": [
            "/tmp/ipython-input-887241548.py:1: FutureWarning: A value is trying to be set on a copy of a DataFrame or Series through chained assignment using an inplace method.\n",
            "The behavior will change in pandas 3.0. This inplace method will never work because the intermediate object on which we are setting values always behaves as a copy.\n",
            "\n",
            "For example, when doing 'df[col].method(value, inplace=True)', try using 'df.method({col: value}, inplace=True)' or df[col] = df[col].method(value) instead, to perform the operation inplace on the original object.\n",
            "\n",
            "\n",
            "  data['Avg VTAT'].fillna(data['Avg VTAT'].mean(),inplace=True)\n"
          ]
        }
      ],
      "source": [
        "data['Avg VTAT'].fillna(data['Avg VTAT'].mean(),inplace=True)"
      ]
    },
    {
      "cell_type": "code",
      "execution_count": null,
      "metadata": {
        "colab": {
          "base_uri": "https://localhost:8080/"
        },
        "id": "PfemTxAC74UI",
        "outputId": "a1c8bede-b39b-4d59-a550-9c181cf3b246"
      },
      "outputs": [
        {
          "name": "stderr",
          "output_type": "stream",
          "text": [
            "/tmp/ipython-input-3917856886.py:1: FutureWarning: A value is trying to be set on a copy of a DataFrame or Series through chained assignment using an inplace method.\n",
            "The behavior will change in pandas 3.0. This inplace method will never work because the intermediate object on which we are setting values always behaves as a copy.\n",
            "\n",
            "For example, when doing 'df[col].method(value, inplace=True)', try using 'df.method({col: value}, inplace=True)' or df[col] = df[col].method(value) instead, to perform the operation inplace on the original object.\n",
            "\n",
            "\n",
            "  data['Avg CTAT'].fillna(data['Avg CTAT'].mean(),inplace=True)\n"
          ]
        }
      ],
      "source": [
        "data['Avg CTAT'].fillna(data['Avg CTAT'].mean(),inplace=True)"
      ]
    },
    {
      "cell_type": "code",
      "execution_count": null,
      "metadata": {
        "colab": {
          "base_uri": "https://localhost:8080/",
          "height": 146
        },
        "id": "9t_eXMkn0ZI6",
        "outputId": "5c9b51e6-34a0-4e7d-ce13-ab3d9574b2d8"
      },
      "outputs": [
        {
          "data": {
            "text/html": [
              "<div>\n",
              "<style scoped>\n",
              "    .dataframe tbody tr th:only-of-type {\n",
              "        vertical-align: middle;\n",
              "    }\n",
              "\n",
              "    .dataframe tbody tr th {\n",
              "        vertical-align: top;\n",
              "    }\n",
              "\n",
              "    .dataframe thead th {\n",
              "        text-align: right;\n",
              "    }\n",
              "</style>\n",
              "<table border=\"1\" class=\"dataframe\">\n",
              "  <thead>\n",
              "    <tr style=\"text-align: right;\">\n",
              "      <th></th>\n",
              "      <th>count</th>\n",
              "    </tr>\n",
              "    <tr>\n",
              "      <th>Cancelled Rides by Customer</th>\n",
              "      <th></th>\n",
              "    </tr>\n",
              "  </thead>\n",
              "  <tbody>\n",
              "    <tr>\n",
              "      <th>1.0</th>\n",
              "      <td>7780</td>\n",
              "    </tr>\n",
              "  </tbody>\n",
              "</table>\n",
              "</div><br><label><b>dtype:</b> int64</label>"
            ],
            "text/plain": [
              "Cancelled Rides by Customer\n",
              "1.0    7780\n",
              "Name: count, dtype: int64"
            ]
          },
          "execution_count": 11,
          "metadata": {},
          "output_type": "execute_result"
        }
      ],
      "source": [
        "data['Cancelled Rides by Customer'].value_counts()"
      ]
    },
    {
      "cell_type": "code",
      "execution_count": null,
      "metadata": {
        "id": "eIGqNEOJ0vTL"
      },
      "outputs": [],
      "source": [
        "data.drop('Cancelled Rides by Customer',axis=1,inplace=True)"
      ]
    },
    {
      "cell_type": "code",
      "execution_count": null,
      "metadata": {
        "colab": {
          "base_uri": "https://localhost:8080/",
          "height": 272
        },
        "id": "27tU4eZzYRct",
        "outputId": "eceb234f-1656-48a4-fc51-657e7d465fee"
      },
      "outputs": [
        {
          "data": {
            "text/html": [
              "<div>\n",
              "<style scoped>\n",
              "    .dataframe tbody tr th:only-of-type {\n",
              "        vertical-align: middle;\n",
              "    }\n",
              "\n",
              "    .dataframe tbody tr th {\n",
              "        vertical-align: top;\n",
              "    }\n",
              "\n",
              "    .dataframe thead th {\n",
              "        text-align: right;\n",
              "    }\n",
              "</style>\n",
              "<table border=\"1\" class=\"dataframe\">\n",
              "  <thead>\n",
              "    <tr style=\"text-align: right;\">\n",
              "      <th></th>\n",
              "      <th>count</th>\n",
              "    </tr>\n",
              "    <tr>\n",
              "      <th>Reason for cancelling by Customer</th>\n",
              "      <th></th>\n",
              "    </tr>\n",
              "  </thead>\n",
              "  <tbody>\n",
              "    <tr>\n",
              "      <th>Wrong Address</th>\n",
              "      <td>715</td>\n",
              "    </tr>\n",
              "    <tr>\n",
              "      <th>Change of plans</th>\n",
              "      <td>686</td>\n",
              "    </tr>\n",
              "    <tr>\n",
              "      <th>Driver is not moving towards pickup location</th>\n",
              "      <td>656</td>\n",
              "    </tr>\n",
              "    <tr>\n",
              "      <th>Driver asked to cancel</th>\n",
              "      <td>656</td>\n",
              "    </tr>\n",
              "    <tr>\n",
              "      <th>AC is not working</th>\n",
              "      <td>303</td>\n",
              "    </tr>\n",
              "  </tbody>\n",
              "</table>\n",
              "</div><br><label><b>dtype:</b> int64</label>"
            ],
            "text/plain": [
              "Reason for cancelling by Customer\n",
              "Wrong Address                                   715\n",
              "Change of plans                                 686\n",
              "Driver is not moving towards pickup location    656\n",
              "Driver asked to cancel                          656\n",
              "AC is not working                               303\n",
              "Name: count, dtype: int64"
            ]
          },
          "execution_count": 34,
          "metadata": {},
          "output_type": "execute_result"
        }
      ],
      "source": [
        "data['Reason for cancelling by Customer'].value_counts()"
      ]
    },
    {
      "cell_type": "code",
      "execution_count": null,
      "metadata": {
        "id": "SFI3ovIyviLj"
      },
      "outputs": [],
      "source": [
        "data.drop('Reason for cancelling by Customer', axis = 1, inplace = True)"
      ]
    },
    {
      "cell_type": "code",
      "execution_count": null,
      "metadata": {
        "colab": {
          "base_uri": "https://localhost:8080/",
          "height": 146
        },
        "id": "p6g5qU081AP0",
        "outputId": "d5d7be70-5ee6-4e5f-9f62-b71982535135"
      },
      "outputs": [
        {
          "data": {
            "text/html": [
              "<div>\n",
              "<style scoped>\n",
              "    .dataframe tbody tr th:only-of-type {\n",
              "        vertical-align: middle;\n",
              "    }\n",
              "\n",
              "    .dataframe tbody tr th {\n",
              "        vertical-align: top;\n",
              "    }\n",
              "\n",
              "    .dataframe thead th {\n",
              "        text-align: right;\n",
              "    }\n",
              "</style>\n",
              "<table border=\"1\" class=\"dataframe\">\n",
              "  <thead>\n",
              "    <tr style=\"text-align: right;\">\n",
              "      <th></th>\n",
              "      <th>count</th>\n",
              "    </tr>\n",
              "    <tr>\n",
              "      <th>Cancelled Rides by Driver</th>\n",
              "      <th></th>\n",
              "    </tr>\n",
              "  </thead>\n",
              "  <tbody>\n",
              "    <tr>\n",
              "      <th>1.0</th>\n",
              "      <td>19989</td>\n",
              "    </tr>\n",
              "  </tbody>\n",
              "</table>\n",
              "</div><br><label><b>dtype:</b> int64</label>"
            ],
            "text/plain": [
              "Cancelled Rides by Driver\n",
              "1.0    19989\n",
              "Name: count, dtype: int64"
            ]
          },
          "execution_count": 13,
          "metadata": {},
          "output_type": "execute_result"
        }
      ],
      "source": [
        "data['Cancelled Rides by Driver'].value_counts()"
      ]
    },
    {
      "cell_type": "code",
      "execution_count": null,
      "metadata": {
        "id": "rVLI9YYs1m_u"
      },
      "outputs": [],
      "source": [
        "data.drop('Cancelled Rides by Driver',axis=1,inplace=True)"
      ]
    },
    {
      "cell_type": "code",
      "execution_count": null,
      "metadata": {
        "colab": {
          "base_uri": "https://localhost:8080/",
          "height": 241
        },
        "id": "Ti4lLJtU129g",
        "outputId": "3917007c-8355-4555-8ccc-447a9c304f2c"
      },
      "outputs": [
        {
          "data": {
            "text/html": [
              "<div>\n",
              "<style scoped>\n",
              "    .dataframe tbody tr th:only-of-type {\n",
              "        vertical-align: middle;\n",
              "    }\n",
              "\n",
              "    .dataframe tbody tr th {\n",
              "        vertical-align: top;\n",
              "    }\n",
              "\n",
              "    .dataframe thead th {\n",
              "        text-align: right;\n",
              "    }\n",
              "</style>\n",
              "<table border=\"1\" class=\"dataframe\">\n",
              "  <thead>\n",
              "    <tr style=\"text-align: right;\">\n",
              "      <th></th>\n",
              "      <th>count</th>\n",
              "    </tr>\n",
              "    <tr>\n",
              "      <th>Driver Cancellation Reason</th>\n",
              "      <th></th>\n",
              "    </tr>\n",
              "  </thead>\n",
              "  <tbody>\n",
              "    <tr>\n",
              "      <th>Customer related issue</th>\n",
              "      <td>5064</td>\n",
              "    </tr>\n",
              "    <tr>\n",
              "      <th>Personal &amp; Car related issues</th>\n",
              "      <td>5001</td>\n",
              "    </tr>\n",
              "    <tr>\n",
              "      <th>The customer was coughing/sick</th>\n",
              "      <td>4979</td>\n",
              "    </tr>\n",
              "    <tr>\n",
              "      <th>More than permitted people in there</th>\n",
              "      <td>4945</td>\n",
              "    </tr>\n",
              "  </tbody>\n",
              "</table>\n",
              "</div><br><label><b>dtype:</b> int64</label>"
            ],
            "text/plain": [
              "Driver Cancellation Reason\n",
              "Customer related issue                 5064\n",
              "Personal & Car related issues          5001\n",
              "The customer was coughing/sick         4979\n",
              "More than permitted people in there    4945\n",
              "Name: count, dtype: int64"
            ]
          },
          "execution_count": 15,
          "metadata": {},
          "output_type": "execute_result"
        }
      ],
      "source": [
        "data['Driver Cancellation Reason'].value_counts()"
      ]
    },
    {
      "cell_type": "code",
      "execution_count": null,
      "metadata": {
        "id": "-0XrZHHy2Oxn"
      },
      "outputs": [],
      "source": [
        "data.drop('Driver Cancellation Reason',axis=1,inplace=True)"
      ]
    },
    {
      "cell_type": "code",
      "execution_count": null,
      "metadata": {
        "colab": {
          "base_uri": "https://localhost:8080/",
          "height": 146
        },
        "id": "ABbzCiRz2fqB",
        "outputId": "84933ab9-0b43-4fa3-a078-e27c7287342e"
      },
      "outputs": [
        {
          "data": {
            "text/html": [
              "<div>\n",
              "<style scoped>\n",
              "    .dataframe tbody tr th:only-of-type {\n",
              "        vertical-align: middle;\n",
              "    }\n",
              "\n",
              "    .dataframe tbody tr th {\n",
              "        vertical-align: top;\n",
              "    }\n",
              "\n",
              "    .dataframe thead th {\n",
              "        text-align: right;\n",
              "    }\n",
              "</style>\n",
              "<table border=\"1\" class=\"dataframe\">\n",
              "  <thead>\n",
              "    <tr style=\"text-align: right;\">\n",
              "      <th></th>\n",
              "      <th>count</th>\n",
              "    </tr>\n",
              "    <tr>\n",
              "      <th>Incomplete Rides</th>\n",
              "      <th></th>\n",
              "    </tr>\n",
              "  </thead>\n",
              "  <tbody>\n",
              "    <tr>\n",
              "      <th>1.0</th>\n",
              "      <td>6655</td>\n",
              "    </tr>\n",
              "  </tbody>\n",
              "</table>\n",
              "</div><br><label><b>dtype:</b> int64</label>"
            ],
            "text/plain": [
              "Incomplete Rides\n",
              "1.0    6655\n",
              "Name: count, dtype: int64"
            ]
          },
          "execution_count": 17,
          "metadata": {},
          "output_type": "execute_result"
        }
      ],
      "source": [
        "data['Incomplete Rides'].value_counts()"
      ]
    },
    {
      "cell_type": "code",
      "execution_count": null,
      "metadata": {
        "id": "qWw1xdTP2tyf"
      },
      "outputs": [],
      "source": [
        "data.drop('Incomplete Rides',axis=1,inplace=True)"
      ]
    },
    {
      "cell_type": "code",
      "execution_count": null,
      "metadata": {
        "colab": {
          "base_uri": "https://localhost:8080/",
          "height": 209
        },
        "id": "ajw0OSc0oghf",
        "outputId": "f3c2321b-220e-4dd3-e14f-bd6f79e73203"
      },
      "outputs": [
        {
          "data": {
            "text/html": [
              "<div>\n",
              "<style scoped>\n",
              "    .dataframe tbody tr th:only-of-type {\n",
              "        vertical-align: middle;\n",
              "    }\n",
              "\n",
              "    .dataframe tbody tr th {\n",
              "        vertical-align: top;\n",
              "    }\n",
              "\n",
              "    .dataframe thead th {\n",
              "        text-align: right;\n",
              "    }\n",
              "</style>\n",
              "<table border=\"1\" class=\"dataframe\">\n",
              "  <thead>\n",
              "    <tr style=\"text-align: right;\">\n",
              "      <th></th>\n",
              "      <th>count</th>\n",
              "    </tr>\n",
              "    <tr>\n",
              "      <th>Incomplete Rides Reason</th>\n",
              "      <th></th>\n",
              "    </tr>\n",
              "  </thead>\n",
              "  <tbody>\n",
              "    <tr>\n",
              "      <th>Customer Demand</th>\n",
              "      <td>898</td>\n",
              "    </tr>\n",
              "    <tr>\n",
              "      <th>Vehicle Breakdown</th>\n",
              "      <td>881</td>\n",
              "    </tr>\n",
              "    <tr>\n",
              "      <th>Other Issue</th>\n",
              "      <td>853</td>\n",
              "    </tr>\n",
              "  </tbody>\n",
              "</table>\n",
              "</div><br><label><b>dtype:</b> int64</label>"
            ],
            "text/plain": [
              "Incomplete Rides Reason\n",
              "Customer Demand      898\n",
              "Vehicle Breakdown    881\n",
              "Other Issue          853\n",
              "Name: count, dtype: int64"
            ]
          },
          "execution_count": 8,
          "metadata": {},
          "output_type": "execute_result"
        }
      ],
      "source": [
        "data['Incomplete Rides Reason'].value_counts()"
      ]
    },
    {
      "cell_type": "code",
      "execution_count": null,
      "metadata": {
        "id": "EiEZWPERt6b1"
      },
      "outputs": [],
      "source": [
        "data.drop('Incomplete Rides Reason',axis=1,inplace=True)"
      ]
    },
    {
      "cell_type": "code",
      "execution_count": null,
      "metadata": {
        "colab": {
          "base_uri": "https://localhost:8080/"
        },
        "id": "6Ay0k-a75G5Y",
        "outputId": "7cc72ee0-7db6-4502-911e-262f37fe89bd"
      },
      "outputs": [
        {
          "name": "stderr",
          "output_type": "stream",
          "text": [
            "/tmp/ipython-input-1413208573.py:1: FutureWarning: A value is trying to be set on a copy of a DataFrame or Series through chained assignment using an inplace method.\n",
            "The behavior will change in pandas 3.0. This inplace method will never work because the intermediate object on which we are setting values always behaves as a copy.\n",
            "\n",
            "For example, when doing 'df[col].method(value, inplace=True)', try using 'df.method({col: value}, inplace=True)' or df[col] = df[col].method(value) instead, to perform the operation inplace on the original object.\n",
            "\n",
            "\n",
            "  data['Booking Value'].fillna(data['Booking Value'].mean(),inplace=True)\n"
          ]
        }
      ],
      "source": [
        "data['Booking Value'].fillna(data['Booking Value'].mean(),inplace=True)"
      ]
    },
    {
      "cell_type": "code",
      "execution_count": null,
      "metadata": {
        "colab": {
          "base_uri": "https://localhost:8080/"
        },
        "id": "dEJvH-Ke6L9c",
        "outputId": "2d81173e-0ed4-4493-f229-a004b786cca5"
      },
      "outputs": [
        {
          "name": "stderr",
          "output_type": "stream",
          "text": [
            "/tmp/ipython-input-834380478.py:1: FutureWarning: A value is trying to be set on a copy of a DataFrame or Series through chained assignment using an inplace method.\n",
            "The behavior will change in pandas 3.0. This inplace method will never work because the intermediate object on which we are setting values always behaves as a copy.\n",
            "\n",
            "For example, when doing 'df[col].method(value, inplace=True)', try using 'df.method({col: value}, inplace=True)' or df[col] = df[col].method(value) instead, to perform the operation inplace on the original object.\n",
            "\n",
            "\n",
            "  data['Ride Distance'].fillna(data['Ride Distance'].mean(),inplace=True)\n"
          ]
        }
      ],
      "source": [
        "data['Ride Distance'].fillna(data['Ride Distance'].mean(),inplace=True)"
      ]
    },
    {
      "cell_type": "code",
      "execution_count": null,
      "metadata": {
        "colab": {
          "base_uri": "https://localhost:8080/"
        },
        "id": "VwDvt_lfr-a-",
        "outputId": "2bf75114-363a-48e4-ff46-30483d609f40"
      },
      "outputs": [
        {
          "name": "stderr",
          "output_type": "stream",
          "text": [
            "/tmp/ipython-input-2715219738.py:1: FutureWarning: A value is trying to be set on a copy of a DataFrame or Series through chained assignment using an inplace method.\n",
            "The behavior will change in pandas 3.0. This inplace method will never work because the intermediate object on which we are setting values always behaves as a copy.\n",
            "\n",
            "For example, when doing 'df[col].method(value, inplace=True)', try using 'df.method({col: value}, inplace=True)' or df[col] = df[col].method(value) instead, to perform the operation inplace on the original object.\n",
            "\n",
            "\n",
            "  data['Driver Ratings'].fillna(data['Driver Ratings'].median(),inplace=True)\n"
          ]
        }
      ],
      "source": [
        "data['Driver Ratings'].fillna(data['Driver Ratings'].median(),inplace=True)"
      ]
    },
    {
      "cell_type": "code",
      "execution_count": null,
      "metadata": {
        "colab": {
          "base_uri": "https://localhost:8080/"
        },
        "id": "Vld1Obltstpd",
        "outputId": "56b0b532-4d86-44cd-b1a7-6c0954416c32"
      },
      "outputs": [
        {
          "name": "stderr",
          "output_type": "stream",
          "text": [
            "/tmp/ipython-input-1701762891.py:1: FutureWarning: A value is trying to be set on a copy of a DataFrame or Series through chained assignment using an inplace method.\n",
            "The behavior will change in pandas 3.0. This inplace method will never work because the intermediate object on which we are setting values always behaves as a copy.\n",
            "\n",
            "For example, when doing 'df[col].method(value, inplace=True)', try using 'df.method({col: value}, inplace=True)' or df[col] = df[col].method(value) instead, to perform the operation inplace on the original object.\n",
            "\n",
            "\n",
            "  data['Customer Rating'].fillna(data['Customer Rating'].median(),inplace=True)\n"
          ]
        }
      ],
      "source": [
        "data['Customer Rating'].fillna(data['Customer Rating'].median(),inplace=True)"
      ]
    },
    {
      "cell_type": "code",
      "execution_count": null,
      "metadata": {
        "colab": {
          "base_uri": "https://localhost:8080/",
          "height": 272
        },
        "id": "TuQxgIMQtO87",
        "outputId": "70a00a71-469a-4f06-8476-f64732e16ad6"
      },
      "outputs": [
        {
          "data": {
            "text/html": [
              "<div>\n",
              "<style scoped>\n",
              "    .dataframe tbody tr th:only-of-type {\n",
              "        vertical-align: middle;\n",
              "    }\n",
              "\n",
              "    .dataframe tbody tr th {\n",
              "        vertical-align: top;\n",
              "    }\n",
              "\n",
              "    .dataframe thead th {\n",
              "        text-align: right;\n",
              "    }\n",
              "</style>\n",
              "<table border=\"1\" class=\"dataframe\">\n",
              "  <thead>\n",
              "    <tr style=\"text-align: right;\">\n",
              "      <th></th>\n",
              "      <th>count</th>\n",
              "    </tr>\n",
              "    <tr>\n",
              "      <th>Payment Method</th>\n",
              "      <th></th>\n",
              "    </tr>\n",
              "  </thead>\n",
              "  <tbody>\n",
              "    <tr>\n",
              "      <th>UPI</th>\n",
              "      <td>3875</td>\n",
              "    </tr>\n",
              "    <tr>\n",
              "      <th>Cash</th>\n",
              "      <td>1052</td>\n",
              "    </tr>\n",
              "    <tr>\n",
              "      <th>Uber Wallet</th>\n",
              "      <td>518</td>\n",
              "    </tr>\n",
              "    <tr>\n",
              "      <th>Credit Card</th>\n",
              "      <td>379</td>\n",
              "    </tr>\n",
              "    <tr>\n",
              "      <th>Debit Card</th>\n",
              "      <td>357</td>\n",
              "    </tr>\n",
              "  </tbody>\n",
              "</table>\n",
              "</div><br><label><b>dtype:</b> int64</label>"
            ],
            "text/plain": [
              "Payment Method\n",
              "UPI            3875\n",
              "Cash           1052\n",
              "Uber Wallet     518\n",
              "Credit Card     379\n",
              "Debit Card      357\n",
              "Name: count, dtype: int64"
            ]
          },
          "execution_count": 74,
          "metadata": {},
          "output_type": "execute_result"
        }
      ],
      "source": [
        "data['Payment Method'].value_counts()"
      ]
    },
    {
      "cell_type": "code",
      "execution_count": null,
      "metadata": {
        "colab": {
          "base_uri": "https://localhost:8080/"
        },
        "id": "WOtM-oLK7TYS",
        "outputId": "b29b4d88-c723-4660-a77a-68b2a9843c7e"
      },
      "outputs": [
        {
          "name": "stderr",
          "output_type": "stream",
          "text": [
            "/tmp/ipython-input-2383398892.py:1: FutureWarning: A value is trying to be set on a copy of a DataFrame or Series through chained assignment using an inplace method.\n",
            "The behavior will change in pandas 3.0. This inplace method will never work because the intermediate object on which we are setting values always behaves as a copy.\n",
            "\n",
            "For example, when doing 'df[col].method(value, inplace=True)', try using 'df.method({col: value}, inplace=True)' or df[col] = df[col].method(value) instead, to perform the operation inplace on the original object.\n",
            "\n",
            "\n",
            "  data['Payment Method'].fillna('UPI',inplace=True)\n"
          ]
        }
      ],
      "source": [
        "data['Payment Method'].fillna('UPI',inplace=True)"
      ]
    },
    {
      "cell_type": "code",
      "execution_count": null,
      "metadata": {
        "colab": {
          "base_uri": "https://localhost:8080/"
        },
        "id": "vB99tMID7pKg",
        "outputId": "1822fb39-4644-4ea2-ffcb-37fe81ab30b4"
      },
      "outputs": [
        {
          "name": "stdout",
          "output_type": "stream",
          "text": [
            "<class 'pandas.core.frame.DataFrame'>\n",
            "RangeIndex: 111210 entries, 0 to 111209\n",
            "Data columns (total 15 columns):\n",
            " #   Column           Non-Null Count   Dtype  \n",
            "---  ------           --------------   -----  \n",
            " 0   Date             111210 non-null  object \n",
            " 1   Time             111210 non-null  object \n",
            " 2   Booking ID       111210 non-null  object \n",
            " 3   Booking Status   111210 non-null  object \n",
            " 4   Customer ID      111210 non-null  object \n",
            " 5   Vehicle Type     111210 non-null  object \n",
            " 6   Pickup Location  111210 non-null  object \n",
            " 7   Drop Location    111210 non-null  object \n",
            " 8   Avg VTAT         111210 non-null  float64\n",
            " 9   Avg CTAT         111210 non-null  float64\n",
            " 10  Booking Value    111210 non-null  float64\n",
            " 11  Ride Distance    111210 non-null  float64\n",
            " 12  Driver Ratings   111210 non-null  float64\n",
            " 13  Customer Rating  111210 non-null  float64\n",
            " 14  Payment Method   111210 non-null  object \n",
            "dtypes: float64(6), object(9)\n",
            "memory usage: 12.7+ MB\n"
          ]
        }
      ],
      "source": [
        "data.info()"
      ]
    },
    {
      "cell_type": "code",
      "execution_count": null,
      "metadata": {
        "colab": {
          "base_uri": "https://localhost:8080/",
          "height": 554
        },
        "id": "6FdUnx4N8bUx",
        "outputId": "91aee834-e110-4719-f5c3-d83976dfe95c"
      },
      "outputs": [
        {
          "data": {
            "text/html": [
              "<div>\n",
              "<style scoped>\n",
              "    .dataframe tbody tr th:only-of-type {\n",
              "        vertical-align: middle;\n",
              "    }\n",
              "\n",
              "    .dataframe tbody tr th {\n",
              "        vertical-align: top;\n",
              "    }\n",
              "\n",
              "    .dataframe thead th {\n",
              "        text-align: right;\n",
              "    }\n",
              "</style>\n",
              "<table border=\"1\" class=\"dataframe\">\n",
              "  <thead>\n",
              "    <tr style=\"text-align: right;\">\n",
              "      <th></th>\n",
              "      <th>0</th>\n",
              "    </tr>\n",
              "  </thead>\n",
              "  <tbody>\n",
              "    <tr>\n",
              "      <th>Date</th>\n",
              "      <td>0</td>\n",
              "    </tr>\n",
              "    <tr>\n",
              "      <th>Time</th>\n",
              "      <td>0</td>\n",
              "    </tr>\n",
              "    <tr>\n",
              "      <th>Booking ID</th>\n",
              "      <td>0</td>\n",
              "    </tr>\n",
              "    <tr>\n",
              "      <th>Booking Status</th>\n",
              "      <td>0</td>\n",
              "    </tr>\n",
              "    <tr>\n",
              "      <th>Customer ID</th>\n",
              "      <td>0</td>\n",
              "    </tr>\n",
              "    <tr>\n",
              "      <th>Vehicle Type</th>\n",
              "      <td>0</td>\n",
              "    </tr>\n",
              "    <tr>\n",
              "      <th>Pickup Location</th>\n",
              "      <td>0</td>\n",
              "    </tr>\n",
              "    <tr>\n",
              "      <th>Drop Location</th>\n",
              "      <td>0</td>\n",
              "    </tr>\n",
              "    <tr>\n",
              "      <th>Avg VTAT</th>\n",
              "      <td>0</td>\n",
              "    </tr>\n",
              "    <tr>\n",
              "      <th>Avg CTAT</th>\n",
              "      <td>0</td>\n",
              "    </tr>\n",
              "    <tr>\n",
              "      <th>Booking Value</th>\n",
              "      <td>0</td>\n",
              "    </tr>\n",
              "    <tr>\n",
              "      <th>Ride Distance</th>\n",
              "      <td>0</td>\n",
              "    </tr>\n",
              "    <tr>\n",
              "      <th>Driver Ratings</th>\n",
              "      <td>0</td>\n",
              "    </tr>\n",
              "    <tr>\n",
              "      <th>Customer Rating</th>\n",
              "      <td>0</td>\n",
              "    </tr>\n",
              "    <tr>\n",
              "      <th>Payment Method</th>\n",
              "      <td>0</td>\n",
              "    </tr>\n",
              "  </tbody>\n",
              "</table>\n",
              "</div><br><label><b>dtype:</b> int64</label>"
            ],
            "text/plain": [
              "Date               0\n",
              "Time               0\n",
              "Booking ID         0\n",
              "Booking Status     0\n",
              "Customer ID        0\n",
              "Vehicle Type       0\n",
              "Pickup Location    0\n",
              "Drop Location      0\n",
              "Avg VTAT           0\n",
              "Avg CTAT           0\n",
              "Booking Value      0\n",
              "Ride Distance      0\n",
              "Driver Ratings     0\n",
              "Customer Rating    0\n",
              "Payment Method     0\n",
              "dtype: int64"
            ]
          },
          "execution_count": 39,
          "metadata": {},
          "output_type": "execute_result"
        }
      ],
      "source": [
        "data.isnull().sum()"
      ]
    },
    {
      "cell_type": "code",
      "execution_count": null,
      "metadata": {
        "colab": {
          "base_uri": "https://localhost:8080/",
          "height": 505
        },
        "id": "fSjEXcCoKeSh",
        "outputId": "c126ed06-48f6-4424-d185-554c3d168ef7"
      },
      "outputs": [
        {
          "data": {
            "text/plain": [
              "<Axes: >"
            ]
          },
          "execution_count": 59,
          "metadata": {},
          "output_type": "execute_result"
        },
        {
          "data": {
            "image/png": "[encoded data removed]",
            "text/plain": [
              "<Figure size 2200x1000 with 1 Axes>"
            ]
          },
          "metadata": {},
          "output_type": "display_data"
        }
      ],
      "source": [
        "plt.figure(figsize=(22,10))\n",
        "sns.heatmap(data.isnull(), yticklabels=False, cbar=False, cmap='viridis')"
      ]
    },
    {
      "cell_type": "markdown",
      "metadata": {
        "id": "r4GbonMI_B-S"
      },
      "source": [
        "**Milestone 1: We have cleansed all the null data present in the DataSet.**"
      ]
    },
    {
      "cell_type": "markdown",
      "metadata": {
        "id": "8tD1bPndeW4b"
      },
      "source": [
        "**Dealing with the Duplicate Data**"
      ]
    },
    {
      "cell_type": "code",
      "execution_count": null,
      "metadata": {
        "colab": {
          "base_uri": "https://localhost:8080/"
        },
        "id": "WF57TVpz9lsT",
        "outputId": "f079a3c0-8fc0-4f93-f44d-a9486e70a1df"
      },
      "outputs": [
        {
          "data": {
            "text/plain": [
              "np.False_"
            ]
          },
          "execution_count": 41,
          "metadata": {},
          "output_type": "execute_result"
        }
      ],
      "source": [
        "data.duplicated().any()"
      ]
    },
    {
      "cell_type": "code",
      "execution_count": null,
      "metadata": {
        "colab": {
          "base_uri": "https://localhost:8080/"
        },
        "id": "PGF5cOMq-CLB",
        "outputId": "2785fb17-06e6-4dd3-bd5f-e6f0ef03f25b"
      },
      "outputs": [
        {
          "data": {
            "text/plain": [
              "Index(['Date', 'Time', 'Booking ID', 'Booking Status', 'Customer ID',\n",
              "       'Vehicle Type', 'Pickup Location', 'Drop Location', 'Avg VTAT',\n",
              "       'Avg CTAT', 'Booking Value', 'Ride Distance', 'Driver Ratings',\n",
              "       'Customer Rating', 'Payment Method'],\n",
              "      dtype='object')"
            ]
          },
          "execution_count": 43,
          "metadata": {},
          "output_type": "execute_result"
        }
      ],
      "source": [
        "data.columns"
      ]
    },
    {
      "cell_type": "code",
      "execution_count": null,
      "metadata": {
        "colab": {
          "base_uri": "https://localhost:8080/"
        },
        "id": "uOKGyTJ7-Pbf",
        "outputId": "afb85d6d-00a7-4945-f45d-6450a27685d9"
      },
      "outputs": [
        {
          "data": {
            "text/plain": [
              "np.False_"
            ]
          },
          "execution_count": 44,
          "metadata": {},
          "output_type": "execute_result"
        }
      ],
      "source": [
        "data.duplicated(subset=['Date', 'Time', 'Booking ID', 'Booking Status', 'Customer ID',\n",
        "       'Vehicle Type', 'Pickup Location', 'Drop Location', 'Avg VTAT',\n",
        "       'Avg CTAT', 'Booking Value', 'Ride Distance', 'Driver Ratings',\n",
        "       'Customer Rating', 'Payment Method']).any()"
      ]
    },
    {
      "cell_type": "markdown",
      "metadata": {
        "id": "9PaRKo4w_YN_"
      },
      "source": [
        "**Milestone 2:We have checked for the possible data redundancy present in the DataSet.**"
      ]
    },
    {
      "cell_type": "markdown",
      "metadata": {
        "id": "GvgphfAv_vni"
      },
      "source": [
        "**Data Visualisation**"
      ]
    },
    {
      "cell_type": "code",
      "execution_count": null,
      "metadata": {
        "colab": {
          "base_uri": "https://localhost:8080/",
          "height": 406
        },
        "id": "jAYxj1P5_9SO",
        "outputId": "32adb7bf-2b10-4402-f39b-bc1e207766a8"
      },
      "outputs": [
        {
          "data": {
            "image/png": "[encoded data removed]",
            "text/plain": [
              "<Figure size 640x480 with 1 Axes>"
            ]
          },
          "metadata": {},
          "output_type": "display_data"
        }
      ],
      "source": [
        "#Pie Chart for Booking Status\n",
        "count=data['Booking Status'].value_counts()\n",
        "plt.pie(count,labels=count.index,autopct='%1.2f')\n",
        "plt.show()"
      ]
    },
    {
      "cell_type": "code",
      "execution_count": null,
      "metadata": {
        "colab": {
          "base_uri": "https://localhost:8080/",
          "height": 430
        },
        "id": "hYzdzWLUEVRO",
        "outputId": "efca9a85-8c55-4477-e355-30f87069f5ca"
      },
      "outputs": [
        {
          "data": {
            "image/png": "[encoded data removed]",
            "text/plain": [
              "<Figure size 640x480 with 1 Axes>"
            ]
          },
          "metadata": {},
          "output_type": "display_data"
        }
      ],
      "source": [
        "#Count Plot to display the Vehicle Type\n",
        "count=data['Vehicle Type'].value_counts()\n",
        "plt.bar(count.index,count,color=['pink','blue','pink','blue','pink','blue','pink'])\n",
        "plt.show()"
      ]
    },
    {
      "cell_type": "code",
      "execution_count": null,
      "metadata": {
        "colab": {
          "base_uri": "https://localhost:8080/",
          "height": 472
        },
        "id": "I5x1iwh5xOqe",
        "outputId": "dc3cc14d-379f-4213-b3fe-e46db1f61682"
      },
      "outputs": [
        {
          "output_type": "display_data",
          "data": {
            "text/plain": [
              "<Figure size 640x480 with 1 Axes>"
            ],
            "image/png": "[encoded data removed]"
          },
          "metadata": {}
        }
      ],
      "source": [
        "#Line Plot to correlate Booking ID and Customer ID\n",
        "sort_Booking=data.sort_values('Booking ID',ascending=False)\n",
        "sort_Customer=data.sort_values('Customer ID',ascending=False)\n",
        "\n",
        "plt.plot(sort_Booking['Booking ID'],sort_Customer['Customer ID'],color='green')\n",
        "plt.title('Booking ID vs Customer ID')\n",
        "plt.xlabel('Booking ID')\n",
        "plt.ylabel('Customer ID')\n",
        "plt.show()"
      ]
    },
    {
      "cell_type": "code",
      "source": [
        "data['Avg VTAT'].mean()"
      ],
      "metadata": {
        "colab": {
          "base_uri": "https://localhost:8080/"
        },
        "id": "1VMNDpvCT5C-",
        "outputId": "5eacb6b2-45d8-41af-8064-deda062672c0"
      },
      "execution_count": 13,
      "outputs": [
        {
          "output_type": "execute_result",
          "data": {
            "text/plain": [
              "np.float64(8.456351971326164)"
            ]
          },
          "metadata": {},
          "execution_count": 13
        }
      ]
    },
    {
      "cell_type": "code",
      "source": [
        "data['Avg CTAT'].mean()"
      ],
      "metadata": {
        "colab": {
          "base_uri": "https://localhost:8080/"
        },
        "id": "r4NiUMSYT8wt",
        "outputId": "44fd6b58-9a95-4d23-ef5a-ab45f7182b6e"
      },
      "execution_count": 14,
      "outputs": [
        {
          "output_type": "execute_result",
          "data": {
            "text/plain": [
              "np.float64(29.149636274509803)"
            ]
          },
          "metadata": {},
          "execution_count": 14
        }
      ]
    },
    {
      "cell_type": "code",
      "execution_count": null,
      "metadata": {
        "colab": {
          "base_uri": "https://localhost:8080/",
          "height": 472
        },
        "id": "Uw_fm4N9F7rt",
        "outputId": "e919a19a-0500-4b1b-c754-368f200c5572"
      },
      "outputs": [
        {
          "data": {
            "image/png": "[encoded data removed]",
            "text/plain": [
              "<Figure size 640x480 with 1 Axes>"
            ]
          },
          "metadata": {},
          "output_type": "display_data"
        }
      ],
      "source": [
        "#Line Plot to correlate the Average VTAT and Average CTAT\n",
        "sort_VTAT=data.sort_values('Avg VTAT',ascending=False)\n",
        "sort_CTAT=data.sort_values('Avg CTAT',ascending=False)\n",
        "\n",
        "plt.plot(sort_VTAT['Avg VTAT'],sort_CTAT['Avg CTAT'],color='red')\n",
        "plt.title('Avg VTAT vs Avg CTAT')\n",
        "plt.xlabel('Avg VTAT')\n",
        "plt.ylabel('Avg CTAT')\n",
        "plt.grid()\n",
        "plt.show()"
      ]
    },
    {
      "cell_type": "code",
      "execution_count": null,
      "metadata": {
        "colab": {
          "base_uri": "https://localhost:8080/",
          "height": 472
        },
        "id": "K8b1r43qI83q",
        "outputId": "47a4908b-9704-48ad-844b-fd4a4d4d9931"
      },
      "outputs": [
        {
          "data": {
            "image/png": "[encoded data removed]",
            "text/plain": [
              "<Figure size 640x480 with 1 Axes>"
            ]
          },
          "metadata": {},
          "output_type": "display_data"
        }
      ],
      "source": [
        "#Plotting a Bar Chart for Booking Value and Ride Distance\n",
        "plt.bar(data['Booking Value'],data['Ride Distance'],color=\"orange\")\n",
        "plt.title('Booking Value vs Ride Distance')\n",
        "plt.xlabel('Booking Value')\n",
        "plt.ylabel('Ride Distance')\n",
        "plt.show()"
      ]
    },
    {
      "cell_type": "code",
      "execution_count": null,
      "metadata": {
        "colab": {
          "base_uri": "https://localhost:8080/",
          "height": 423
        },
        "id": "IIKKpprdU5yq",
        "outputId": "ae7681b9-8a16-489d-cdf7-b4d3cc2b11f3"
      },
      "outputs": [
        {
          "data": {
            "application/vnd.google.colaboratory.intrinsic+json": {
              "summary": "{\n  \"name\": \"monthly_counts\",\n  \"rows\": 365,\n  \"fields\": [\n    {\n      \"column\": \"Date\",\n      \"properties\": {\n        \"dtype\": \"date\",\n        \"min\": \"2024-01-01 00:00:00\",\n        \"max\": \"2024-12-30 00:00:00\",\n        \"num_unique_values\": 365,\n        \"samples\": [\n          \"2024-07-12 00:00:00\",\n          \"2024-02-03 00:00:00\",\n          \"2024-01-16 00:00:00\"\n        ],\n        \"semantic_type\": \"\",\n        \"description\": \"\"\n      }\n    },\n    {\n      \"column\": \"count\",\n      \"properties\": {\n        \"dtype\": \"number\",\n        \"std\": 3,\n        \"min\": 8,\n        \"max\": 26,\n        \"num_unique_values\": 19,\n        \"samples\": [\n          16,\n          17,\n          8\n        ],\n        \"semantic_type\": \"\",\n        \"description\": \"\"\n      }\n    }\n  ]\n}",
              "type": "dataframe",
              "variable_name": "monthly_counts"
            },
            "text/html": [
              "\n",
              "  <div id=\"df-85384540-8c4c-4c19-9490-72c7d338e35e\" class=\"colab-df-container\">\n",
              "    <div>\n",
              "<style scoped>\n",
              "    .dataframe tbody tr th:only-of-type {\n",
              "        vertical-align: middle;\n",
              "    }\n",
              "\n",
              "    .dataframe tbody tr th {\n",
              "        vertical-align: top;\n",
              "    }\n",
              "\n",
              "    .dataframe thead th {\n",
              "        text-align: right;\n",
              "    }\n",
              "</style>\n",
              "<table border=\"1\" class=\"dataframe\">\n",
              "  <thead>\n",
              "    <tr style=\"text-align: right;\">\n",
              "      <th></th>\n",
              "      <th>Date</th>\n",
              "      <th>count</th>\n",
              "    </tr>\n",
              "  </thead>\n",
              "  <tbody>\n",
              "    <tr>\n",
              "      <th>0</th>\n",
              "      <td>2024-01-01</td>\n",
              "      <td>16</td>\n",
              "    </tr>\n",
              "    <tr>\n",
              "      <th>1</th>\n",
              "      <td>2024-01-02</td>\n",
              "      <td>14</td>\n",
              "    </tr>\n",
              "    <tr>\n",
              "      <th>2</th>\n",
              "      <td>2024-01-03</td>\n",
              "      <td>15</td>\n",
              "    </tr>\n",
              "    <tr>\n",
              "      <th>3</th>\n",
              "      <td>2024-01-04</td>\n",
              "      <td>13</td>\n",
              "    </tr>\n",
              "    <tr>\n",
              "      <th>4</th>\n",
              "      <td>2024-01-05</td>\n",
              "      <td>13</td>\n",
              "    </tr>\n",
              "    <tr>\n",
              "      <th>...</th>\n",
              "      <td>...</td>\n",
              "      <td>...</td>\n",
              "    </tr>\n",
              "    <tr>\n",
              "      <th>360</th>\n",
              "      <td>2024-12-26</td>\n",
              "      <td>17</td>\n",
              "    </tr>\n",
              "    <tr>\n",
              "      <th>361</th>\n",
              "      <td>2024-12-27</td>\n",
              "      <td>16</td>\n",
              "    </tr>\n",
              "    <tr>\n",
              "      <th>362</th>\n",
              "      <td>2024-12-28</td>\n",
              "      <td>20</td>\n",
              "    </tr>\n",
              "    <tr>\n",
              "      <th>363</th>\n",
              "      <td>2024-12-29</td>\n",
              "      <td>22</td>\n",
              "    </tr>\n",
              "    <tr>\n",
              "      <th>364</th>\n",
              "      <td>2024-12-30</td>\n",
              "      <td>16</td>\n",
              "    </tr>\n",
              "  </tbody>\n",
              "</table>\n",
              "<p>365 rows × 2 columns</p>\n",
              "</div>\n",
              "    <div class=\"colab-df-buttons\">\n",
              "\n",
              "  <div class=\"colab-df-container\">\n",
              "    <button class=\"colab-df-convert\" onclick=\"convertToInteractive('df-85384540-8c4c-4c19-9490-72c7d338e35e')\"\n",
              "            title=\"Convert this dataframe to an interactive table.\"\n",
              "            style=\"display:none;\">\n",
              "\n",
              "  <svg xmlns=\"http://www.w3.org/2000/svg\" height=\"24px\" viewBox=\"0 -960 960 960\">\n",
              "    <path d=\"M120-120v-720h720v720H120Zm60-500h600v-160H180v160Zm220 220h160v-160H400v160Zm0 220h160v-160H400v160ZM180-400h160v-160H180v160Zm440 0h160v-160H620v160ZM180-180h160v-160H180v160Zm440 0h160v-160H620v160Z\"/>\n",
              "  </svg>\n",
              "    </button>\n",
              "\n",
              "  <style>\n",
              "    .colab-df-container {\n",
              "      display:flex;\n",
              "      gap: 12px;\n",
              "    }\n",
              "\n",
              "    .colab-df-convert {\n",
              "      background-color: #E8F0FE;\n",
              "      border: none;\n",
              "      border-radius: 50%;\n",
              "      cursor: pointer;\n",
              "      display: none;\n",
              "      fill: #1967D2;\n",
              "      height: 32px;\n",
              "      padding: 0 0 0 0;\n",
              "      width: 32px;\n",
              "    }\n",
              "\n",
              "    .colab-df-convert:hover {\n",
              "      background-color: #E2EBFA;\n",
              "      box-shadow: 0px 1px 2px rgba(60, 64, 67, 0.3), 0px 1px 3px 1px rgba(60, 64, 67, 0.15);\n",
              "      fill: #174EA6;\n",
              "    }\n",
              "\n",
              "    .colab-df-buttons div {\n",
              "      margin-bottom: 4px;\n",
              "    }\n",
              "\n",
              "    [theme=dark] .colab-df-convert {\n",
              "      background-color: #3B4455;\n",
              "      fill: #D2E3FC;\n",
              "    }\n",
              "\n",
              "    [theme=dark] .colab-df-convert:hover {\n",
              "      background-color: #434B5C;\n",
              "      box-shadow: 0px 1px 3px 1px rgba(0, 0, 0, 0.15);\n",
              "      filter: drop-shadow(0px 1px 2px rgba(0, 0, 0, 0.3));\n",
              "      fill: #FFFFFF;\n",
              "    }\n",
              "  </style>\n",
              "\n",
              "    <script>\n",
              "      const buttonEl =\n",
              "        document.querySelector('#df-85384540-8c4c-4c19-9490-72c7d338e35e button.colab-df-convert');\n",
              "      buttonEl.style.display =\n",
              "        google.colab.kernel.accessAllowed ? 'block' : 'none';\n",
              "\n",
              "      async function convertToInteractive(key) {\n",
              "        const element = document.querySelector('#df-85384540-8c4c-4c19-9490-72c7d338e35e');\n",
              "        const dataTable =\n",
              "          await google.colab.kernel.invokeFunction('convertToInteractive',\n",
              "                                                    [key], {});\n",
              "        if (!dataTable) return;\n",
              "\n",
              "        const docLinkHtml = 'Like what you see? Visit the ' +\n",
              "          '<a target=\"_blank\" href=https://colab.research.google.com/notebooks/data_table.ipynb>data table notebook</a>'\n",
              "          + ' to learn more about interactive tables.';\n",
              "        element.innerHTML = '';\n",
              "        dataTable['output_type'] = 'display_data';\n",
              "        await google.colab.output.renderOutput(dataTable, element);\n",
              "        const docLink = document.createElement('div');\n",
              "        docLink.innerHTML = docLinkHtml;\n",
              "        element.appendChild(docLink);\n",
              "      }\n",
              "    </script>\n",
              "  </div>\n",
              "\n",
              "\n",
              "    <div id=\"df-66af0052-1134-4d89-aa02-d36001bd15f3\">\n",
              "      <button class=\"colab-df-quickchart\" onclick=\"quickchart('df-66af0052-1134-4d89-aa02-d36001bd15f3')\"\n",
              "                title=\"Suggest charts\"\n",
              "                style=\"display:none;\">\n",
              "\n",
              "<svg xmlns=\"http://www.w3.org/2000/svg\" height=\"24px\"viewBox=\"0 0 24 24\"\n",
              "     width=\"24px\">\n",
              "    <g>\n",
              "        <path d=\"M19 3H5c-1.1 0-2 .9-2 2v14c0 1.1.9 2 2 2h14c1.1 0 2-.9 2-2V5c0-1.1-.9-2-2-2zM9 17H7v-7h2v7zm4 0h-2V7h2v10zm4 0h-2v-4h2v4z\"/>\n",
              "    </g>\n",
              "</svg>\n",
              "      </button>\n",
              "\n",
              "<style>\n",
              "  .colab-df-quickchart {\n",
              "      --bg-color: #E8F0FE;\n",
              "      --fill-color: #1967D2;\n",
              "      --hover-bg-color: #E2EBFA;\n",
              "      --hover-fill-color: #174EA6;\n",
              "      --disabled-fill-color: #AAA;\n",
              "      --disabled-bg-color: #DDD;\n",
              "  }\n",
              "\n",
              "  [theme=dark] .colab-df-quickchart {\n",
              "      --bg-color: #3B4455;\n",
              "      --fill-color: #D2E3FC;\n",
              "      --hover-bg-color: #434B5C;\n",
              "      --hover-fill-color: #FFFFFF;\n",
              "      --disabled-bg-color: #3B4455;\n",
              "      --disabled-fill-color: #666;\n",
              "  }\n",
              "\n",
              "  .colab-df-quickchart {\n",
              "    background-color: var(--bg-color);\n",
              "    border: none;\n",
              "    border-radius: 50%;\n",
              "    cursor: pointer;\n",
              "    display: none;\n",
              "    fill: var(--fill-color);\n",
              "    height: 32px;\n",
              "    padding: 0;\n",
              "    width: 32px;\n",
              "  }\n",
              "\n",
              "  .colab-df-quickchart:hover {\n",
              "    background-color: var(--hover-bg-color);\n",
              "    box-shadow: 0 1px 2px rgba(60, 64, 67, 0.3), 0 1px 3px 1px rgba(60, 64, 67, 0.15);\n",
              "    fill: var(--button-hover-fill-color);\n",
              "  }\n",
              "\n",
              "  .colab-df-quickchart-complete:disabled,\n",
              "  .colab-df-quickchart-complete:disabled:hover {\n",
              "    background-color: var(--disabled-bg-color);\n",
              "    fill: var(--disabled-fill-color);\n",
              "    box-shadow: none;\n",
              "  }\n",
              "\n",
              "  .colab-df-spinner {\n",
              "    border: 2px solid var(--fill-color);\n",
              "    border-color: transparent;\n",
              "    border-bottom-color: var(--fill-color);\n",
              "    animation:\n",
              "      spin 1s steps(1) infinite;\n",
              "  }\n",
              "\n",
              "  @keyframes spin {\n",
              "    0% {\n",
              "      border-color: transparent;\n",
              "      border-bottom-color: var(--fill-color);\n",
              "      border-left-color: var(--fill-color);\n",
              "    }\n",
              "    20% {\n",
              "      border-color: transparent;\n",
              "      border-left-color: var(--fill-color);\n",
              "      border-top-color: var(--fill-color);\n",
              "    }\n",
              "    30% {\n",
              "      border-color: transparent;\n",
              "      border-left-color: var(--fill-color);\n",
              "      border-top-color: var(--fill-color);\n",
              "      border-right-color: var(--fill-color);\n",
              "    }\n",
              "    40% {\n",
              "      border-color: transparent;\n",
              "      border-right-color: var(--fill-color);\n",
              "      border-top-color: var(--fill-color);\n",
              "    }\n",
              "    60% {\n",
              "      border-color: transparent;\n",
              "      border-right-color: var(--fill-color);\n",
              "    }\n",
              "    80% {\n",
              "      border-color: transparent;\n",
              "      border-right-color: var(--fill-color);\n",
              "      border-bottom-color: var(--fill-color);\n",
              "    }\n",
              "    90% {\n",
              "      border-color: transparent;\n",
              "      border-bottom-color: var(--fill-color);\n",
              "    }\n",
              "  }\n",
              "</style>\n",
              "\n",
              "      <script>\n",
              "        async function quickchart(key) {\n",
              "          const quickchartButtonEl =\n",
              "            document.querySelector('#' + key + ' button');\n",
              "          quickchartButtonEl.disabled = true;  // To prevent multiple clicks.\n",
              "          quickchartButtonEl.classList.add('colab-df-spinner');\n",
              "          try {\n",
              "            const charts = await google.colab.kernel.invokeFunction(\n",
              "                'suggestCharts', [key], {});\n",
              "          } catch (error) {\n",
              "            console.error('Error during call to suggestCharts:', error);\n",
              "          }\n",
              "          quickchartButtonEl.classList.remove('colab-df-spinner');\n",
              "          quickchartButtonEl.classList.add('colab-df-quickchart-complete');\n",
              "        }\n",
              "        (() => {\n",
              "          let quickchartButtonEl =\n",
              "            document.querySelector('#df-66af0052-1134-4d89-aa02-d36001bd15f3 button');\n",
              "          quickchartButtonEl.style.display =\n",
              "            google.colab.kernel.accessAllowed ? 'block' : 'none';\n",
              "        })();\n",
              "      </script>\n",
              "    </div>\n",
              "\n",
              "  <div id=\"id_bd766f42-831d-40b0-8fb2-0211a51eb31c\">\n",
              "    <style>\n",
              "      .colab-df-generate {\n",
              "        background-color: #E8F0FE;\n",
              "        border: none;\n",
              "        border-radius: 50%;\n",
              "        cursor: pointer;\n",
              "        display: none;\n",
              "        fill: #1967D2;\n",
              "        height: 32px;\n",
              "        padding: 0 0 0 0;\n",
              "        width: 32px;\n",
              "      }\n",
              "\n",
              "      .colab-df-generate:hover {\n",
              "        background-color: #E2EBFA;\n",
              "        box-shadow: 0px 1px 2px rgba(60, 64, 67, 0.3), 0px 1px 3px 1px rgba(60, 64, 67, 0.15);\n",
              "        fill: #174EA6;\n",
              "      }\n",
              "\n",
              "      [theme=dark] .colab-df-generate {\n",
              "        background-color: #3B4455;\n",
              "        fill: #D2E3FC;\n",
              "      }\n",
              "\n",
              "      [theme=dark] .colab-df-generate:hover {\n",
              "        background-color: #434B5C;\n",
              "        box-shadow: 0px 1px 3px 1px rgba(0, 0, 0, 0.15);\n",
              "        filter: drop-shadow(0px 1px 2px rgba(0, 0, 0, 0.3));\n",
              "        fill: #FFFFFF;\n",
              "      }\n",
              "    </style>\n",
              "    <button class=\"colab-df-generate\" onclick=\"generateWithVariable('monthly_counts')\"\n",
              "            title=\"Generate code using this dataframe.\"\n",
              "            style=\"display:none;\">\n",
              "\n",
              "  <svg xmlns=\"http://www.w3.org/2000/svg\" height=\"24px\"viewBox=\"0 0 24 24\"\n",
              "       width=\"24px\">\n",
              "    <path d=\"M7,19H8.4L18.45,9,17,7.55,7,17.6ZM5,21V16.75L18.45,3.32a2,2,0,0,1,2.83,0l1.4,1.43a1.91,1.91,0,0,1,.58,1.4,1.91,1.91,0,0,1-.58,1.4L9.25,21ZM18.45,9,17,7.55Zm-12,3A5.31,5.31,0,0,0,4.9,8.1,5.31,5.31,0,0,0,1,6.5,5.31,5.31,0,0,0,4.9,4.9,5.31,5.31,0,0,0,6.5,1,5.31,5.31,0,0,0,8.1,4.9,5.31,5.31,0,0,0,12,6.5,5.46,5.46,0,0,0,6.5,12Z\"/>\n",
              "  </svg>\n",
              "    </button>\n",
              "    <script>\n",
              "      (() => {\n",
              "      const buttonEl =\n",
              "        document.querySelector('#id_bd766f42-831d-40b0-8fb2-0211a51eb31c button.colab-df-generate');\n",
              "      buttonEl.style.display =\n",
              "        google.colab.kernel.accessAllowed ? 'block' : 'none';\n",
              "\n",
              "      buttonEl.onclick = () => {\n",
              "        google.colab.notebook.generateWithVariable('monthly_counts');\n",
              "      }\n",
              "      })();\n",
              "    </script>\n",
              "  </div>\n",
              "\n",
              "    </div>\n",
              "  </div>\n"
            ],
            "text/plain": [
              "          Date  count\n",
              "0   2024-01-01     16\n",
              "1   2024-01-02     14\n",
              "2   2024-01-03     15\n",
              "3   2024-01-04     13\n",
              "4   2024-01-05     13\n",
              "..         ...    ...\n",
              "360 2024-12-26     17\n",
              "361 2024-12-27     16\n",
              "362 2024-12-28     20\n",
              "363 2024-12-29     22\n",
              "364 2024-12-30     16\n",
              "\n",
              "[365 rows x 2 columns]"
            ]
          },
          "execution_count": 76,
          "metadata": {},
          "output_type": "execute_result"
        }
      ],
      "source": [
        "monthly_counts = data.groupby('Date').size().reset_index(name='count')\n",
        "monthly_counts"
      ]
    },
    {
      "cell_type": "markdown",
      "source": [
        "Plotting a Bar Graph for Quarterly Sales"
      ],
      "metadata": {
        "id": "AoFdLzCNHyPo"
      }
    },
    {
      "cell_type": "code",
      "execution_count": null,
      "metadata": {
        "colab": {
          "base_uri": "https://localhost:8080/",
          "height": 600
        },
        "id": "7ojp0B0rWwoX",
        "outputId": "b4fc0087-2dbc-445e-acc6-eec7b52f3de2"
      },
      "outputs": [
        {
          "name": "stderr",
          "output_type": "stream",
          "text": [
            "/tmp/ipython-input-410009804.py:9: UserWarning: Parsing dates in %d-%m-%Y format when dayfirst=False (the default) was specified. Pass `dayfirst=True` or specify a format to silence this warning.\n",
            "  data['Date'] = pd.to_datetime(data['Date'])\n"
          ]
        },
        {
          "data": {
            "image/png": "[encoded data removed]",
            "text/plain": [
              "<Figure size 1000x600 with 1 Axes>"
            ]
          },
          "metadata": {},
          "output_type": "display_data"
        }
      ],
      "source": [
        "date_range = pd.date_range(start='2024-01-01', end='2024-12-31', freq='D')\n",
        "df = {\n",
        "    'date': np.random.choice(date_range, size=500, replace=True),  # Randomly sampled dates\n",
        "    'sales': np.random.randint(100, 500, size=500)  # Random sales data\n",
        "}\n",
        "data= pd.DataFrame(data)\n",
        "\n",
        "# Convert 'date' column to datetime\n",
        "data['Date'] = pd.to_datetime(data['Date'])\n",
        "\n",
        "# Create 'year_month' column\n",
        "data['year_month'] = data['Date'].dt.to_period('M')\n",
        "\n",
        "# Group by month and count the number of records\n",
        "monthly_counts = data.groupby('year_month').size().reset_index(name='count')\n",
        "\n",
        "# Binning the months into quarters (e.g., Q1, Q2, Q3, Q4)\n",
        "data['quarter'] = data['Date'].dt.to_period('Q')\n",
        "\n",
        "# Group by quarter and calculate the total count of records for each quarter\n",
        "quarterly_counts = data.groupby('quarter').size().reset_index(name='count')\n",
        "\n",
        "# Plotting the data as a bar plot (for quarters)\n",
        "plt.figure(figsize=(10, 6))\n",
        "sns.barplot(data=quarterly_counts, x='quarter', y='count')\n",
        "plt.title('Quarterly Count of Records')\n",
        "plt.xlabel('Quarter')\n",
        "plt.ylabel('Count')\n",
        "plt.xticks(rotation=45)\n",
        "plt.tight_layout()\n",
        "plt.show()"
      ]
    },
    {
      "cell_type": "code",
      "execution_count": null,
      "metadata": {
        "id": "kcE8BdDmscXX",
        "colab": {
          "base_uri": "https://localhost:8080/",
          "height": 472
        },
        "outputId": "0b686aa8-cc56-41f0-fc91-83672aaae14b"
      },
      "outputs": [
        {
          "output_type": "display_data",
          "data": {
            "text/plain": [
              "<Figure size 640x480 with 1 Axes>"
            ],
            "image/png": "[encoded data removed]"
          },
          "metadata": {}
        }
      ],
      "source": [
        "#Scatter PLot to determine a relation between Booking ID vs Booking Value and to obtain outliers\n",
        "plt.scatter(data['Booking ID'],data['Booking Value'],color=\"skyblue\")\n",
        "plt.xlabel('Booking ID')\n",
        "plt.ylabel('Booking Value')\n",
        "plt.title('Booking ID vs Booking Value')\n",
        "plt.show()"
      ]
    },
    {
      "cell_type": "code",
      "source": [
        "#Histogram to represent the Driver Ratings\n",
        "plt.hist(data['Driver Ratings'],bins=10,color='orange')\n",
        "plt.xlabel('Driver Ratings')\n",
        "plt.ylabel('Frequency')\n",
        "plt.title('Distribution of Driver Ratings')\n",
        "plt.grid()\n",
        "plt.show()"
      ],
      "metadata": {
        "colab": {
          "base_uri": "https://localhost:8080/",
          "height": 472
        },
        "id": "6zzPs23N_MOf",
        "outputId": "f1d9690a-21c6-4580-e0f5-b62a9766dfd0"
      },
      "execution_count": null,
      "outputs": [
        {
          "output_type": "display_data",
          "data": {
            "text/plain": [
              "<Figure size 640x480 with 1 Axes>"
            ],
            "image/png": "[encoded data removed]"
          },
          "metadata": {}
        }
      ]
    },
    {
      "cell_type": "code",
      "source": [
        "#Histogram to depict the Customer Ratings\n",
        "plt.hist(data['Customer Rating'],bins=10,color='orange')\n",
        "plt.xlabel('Customer Ratings')\n",
        "plt.ylabel('Frequency')\n",
        "plt.title('Distribution of Customer Ratings')\n",
        "plt.grid()\n",
        "plt.show()"
      ],
      "metadata": {
        "colab": {
          "base_uri": "https://localhost:8080/",
          "height": 472
        },
        "id": "aQjOqkUE_5Zn",
        "outputId": "b6a27a32-1a2b-40f7-f716-2d188e4808bd"
      },
      "execution_count": null,
      "outputs": [
        {
          "output_type": "display_data",
          "data": {
            "text/plain": [
              "<Figure size 640x480 with 1 Axes>"
            ],
            "image/png": "[encoded data removed]"
          },
          "metadata": {}
        }
      ]
    },
    {
      "cell_type": "code",
      "source": [
        "#Pie Chart to demonstrate the Mode of Payment\n",
        "plt.pie(data['Payment Method'].value_counts(),labels=data['Payment Method'].value_counts().index,autopct='%1.2f')\n",
        "plt.show()"
      ],
      "metadata": {
        "colab": {
          "base_uri": "https://localhost:8080/",
          "height": 406
        },
        "id": "QCklVr4lAW_8",
        "outputId": "f8073be6-b5ec-47ca-92d8-116626c0490a"
      },
      "execution_count": null,
      "outputs": [
        {
          "output_type": "display_data",
          "data": {
            "text/plain": [
              "<Figure size 640x480 with 1 Axes>"
            ],
            "image/png": "[encoded data removed]"
          },
          "metadata": {}
        }
      ]
    },
    {
      "cell_type": "markdown",
      "source": [
        "**Milestone 3: All of the data is visualised in the form of  possible graphs.**"
      ],
      "metadata": {
        "id": "Bbn297V9JDbV"
      }
    },
    {
      "cell_type": "markdown",
      "source": [
        "**Data Insights**"
      ],
      "metadata": {
        "id": "z--5taxfaRyf"
      }
    },
    {
      "cell_type": "markdown",
      "source": [
        "\n",
        "\n",
        "*   All of the major ride booking dataset sales is made in the third quarter (July-September) of the year.\n",
        "\n",
        "\n",
        "\n",
        "*   The booking ID varies linearly with an increase in the Customer ID.\n",
        "\n",
        "* About 62% of the total vehicles were booked without any external hinderance.\n",
        "* Majority of the people use auto as a means of transport in their daily lives.\n",
        "\n",
        "\n",
        "*  The Average Vehicle Turn Around Timel(VTAT) increases linearly with the Customer Turn Around Time(CTAT) and becomes constant after a time interval.\n",
        "\n",
        "\n",
        "*   The mean VTAT value is around 8.45 whereas the mean CTAT Value is around 29.14,covering a percent of about 29% of the CTAT value.\n",
        "\n",
        "\n",
        "\n",
        "\n",
        "\n",
        "*  The Booking Value are mainly concentrated in a range of 0-3000.\n",
        "Above 3000,there lies outliers.\n",
        "\n",
        "\n",
        "*   There is an outlier lying in the range above 4000 in the scatter plot between Booking ID and Booking Value.\n",
        "\n",
        "*  About 3500 people gave an average Driver Ratings of 4.25,as can be seen from the above graph.\n",
        "*   More than 2500 people gave an average Customer Ratings of 4.50,as plotted above.\n",
        "\n",
        "\n",
        "* The most common method of payment being the UPI, covering 62.69% of the total transactions received.  \n",
        "\n",
        "\n",
        "\n",
        "\n",
        "\n",
        "\n",
        "\n",
        "\n",
        "\n",
        "\n",
        "\n",
        "\n",
        "\n"
      ],
      "metadata": {
        "id": "17pq0WUZJ7fW"
      }
    },
    {
      "cell_type": "markdown",
      "source": [
        "**SUMMARY**"
      ],
      "metadata": {
        "id": "ISAenavEUgWm"
      }
    },
    {
      "cell_type": "markdown",
      "source": [
        "This dataset provides rich insights into common mode of vehicle, booking value,ride distance and mode of transaction, supporting further analysis for optimizing ride services and customer experience."
      ],
      "metadata": {
        "id": "xv3xoam4UyAU"
      }
    },
    {
      "cell_type": "markdown",
      "source": [
        "**CONCLUSION**"
      ],
      "metadata": {
        "id": "Jrxm-evgUKox"
      }
    },
    {
      "cell_type": "markdown",
      "source": [
        "Exploratory Data Analysis (EDA) provides a comprehensive understanding of the dataset by uncovering its underlying structure, detecting data quality issues, and revealing important patterns and relationships. Through statistical summaries and visualizations, EDA helps to identify key features, anomalies, and trends that inform and improve subsequent modeling efforts. Overall, EDA lays the crucial groundwork for building accurate, reliable, and insightful data-driven solutions."
      ],
      "metadata": {
        "id": "95xAqqazUy6W"
      }
    }
  ],
  "metadata": {
    "colab": {
      "provenance": [],
      "mount_file_id": "1ouRubSin8e6aaJzEcALmarG-yQGwGsN7",
      "authorship_tag": "ABX9TyMBtDsjWAD/XgyZinTYB7h0",
      "include_colab_link": true
    },
    "kernelspec": {
      "display_name": "Python 3",
      "name": "python3"
    },
    "language_info": {
      "name": "python"
    }
  },
  "nbformat": 4,
  "nbformat_minor": 0
}